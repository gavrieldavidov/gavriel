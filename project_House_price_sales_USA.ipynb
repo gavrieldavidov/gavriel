{
  "nbformat": 4,
  "nbformat_minor": 0,
  "metadata": {
    "colab": {
      "name": "Copy of project House price sales USA.ipynb",
      "provenance": [],
      "collapsed_sections": [],
      "toc_visible": true,
      "mount_file_id": "1Vupwu0o68moNix5dYRLurU7MHbGJaCPy",
      "authorship_tag": "ABX9TyNEeonlF4HQWlHGDUqYBAKd",
      "include_colab_link": true
    },
    "kernelspec": {
      "name": "python3",
      "display_name": "Python 3"
    },
    "language_info": {
      "name": "python"
    }
  },
  "cells": [
    {
      "cell_type": "markdown",
      "metadata": {
        "id": "view-in-github",
        "colab_type": "text"
      },
      "source": [
        "<a href=\"https://colab.research.google.com/github/gavrieldavidov/gavriel/blob/main/project_House_price_sales_USA.ipynb\" target=\"_parent\"><img src=\"https://colab.research.google.com/assets/colab-badge.svg\" alt=\"Open In Colab\"/></a>"
      ]
    },
    {
      "cell_type": "markdown",
      "source": [
        "# House Sales in King County, USA Data Analysis (EDA)"
      ],
      "metadata": {
        "id": "X3BFenfnPGGV"
      }
    },
    {
      "cell_type": "markdown",
      "source": [
        "## Introduction"
      ],
      "metadata": {
        "id": "JGXgyTeUPL6j"
      }
    },
    {
      "cell_type": "markdown",
      "source": [
        "### About the Dataset"
      ],
      "metadata": {
        "id": "Z3WGHrgYr0Cu"
      }
    },
    {
      "cell_type": "markdown",
      "source": [
        "* This dataset contains house sale prices for King County, which includes Seattle. It includes homes sold between May 2014 and May 2015."
      ],
      "metadata": {
        "id": "EmeQ5Idcr4w2"
      }
    },
    {
      "cell_type": "markdown",
      "source": [
        "### Tasks"
      ],
      "metadata": {
        "id": "Yiun4geYiUom"
      }
    },
    {
      "cell_type": "markdown",
      "source": [
        "* To conduct a general EDA, and further understand House price sales USA dataset / develop intuition of our data\n",
        "* Performance in perspective of time in 2014 - 2015\n",
        "* Analysis of various effects on the price of the apartment"
      ],
      "metadata": {
        "id": "Tb0W03yYiWyr"
      }
    },
    {
      "cell_type": "markdown",
      "source": [
        "## Preparation"
      ],
      "metadata": {
        "id": "G07bUe0qvD4e"
      }
    },
    {
      "cell_type": "markdown",
      "source": [
        "### Loading the Libraries"
      ],
      "metadata": {
        "id": "bJyp4yJ4vHlk"
      }
    },
    {
      "cell_type": "markdown",
      "source": [
        "Loading Python relevant libraries"
      ],
      "metadata": {
        "id": "B1mbMMICvRRY"
      }
    },
    {
      "cell_type": "code",
      "source": [
        "import pandas as pd\n",
        "from scipy import stats\n",
        "import matplotlib.pyplot as plt\n",
        "import seaborn as sns\n",
        "import numpy as np\n",
        "from scipy.stats import chi2_contingency\n",
        "from scipy.stats import chi2"
      ],
      "metadata": {
        "id": "H5ayuT-kQZYB"
      },
      "execution_count": null,
      "outputs": []
    },
    {
      "cell_type": "code",
      "source": [
        "pd.options.display.float_format = '{:,.2f}'.format"
      ],
      "metadata": {
        "id": "7bzBEaVSSg2y"
      },
      "execution_count": null,
      "outputs": []
    },
    {
      "cell_type": "markdown",
      "source": [
        "### Loading the Data"
      ],
      "metadata": {
        "id": "o4zYj84EvokZ"
      }
    },
    {
      "cell_type": "markdown",
      "source": [
        "Loading the sales dataset into a DataFrame"
      ],
      "metadata": {
        "id": "mbVjbkTtvsrb"
      }
    },
    {
      "cell_type": "code",
      "source": [
        "salesusa = pd.read_csv('/content/drive/MyDrive/python analyst/pandas /project/kc_house_data.csv')"
      ],
      "metadata": {
        "id": "RSOHAjgUc07n"
      },
      "execution_count": null,
      "outputs": []
    },
    {
      "cell_type": "markdown",
      "source": [
        "### Understanding the Data"
      ],
      "metadata": {
        "id": "pT8TU_oIwRDQ"
      }
    },
    {
      "cell_type": "markdown",
      "source": [
        "A few basic details - what is the data-shape in terms of columns & rows, and what details can be found in each column"
      ],
      "metadata": {
        "id": "pkGl7sALxhXa"
      }
    },
    {
      "cell_type": "markdown",
      "source": [
        "#### Data Shape"
      ],
      "metadata": {
        "id": "q-6QxLCVxkTK"
      }
    },
    {
      "cell_type": "code",
      "source": [
        "print(f'This Dataframe has {salesusa.shape[0]} rows over {salesusa.shape[1]} columns')"
      ],
      "metadata": {
        "colab": {
          "base_uri": "https://localhost:8080/"
        },
        "id": "77JCBigXxr1N",
        "outputId": "5bb07dd9-382e-499f-91bc-d90bd01b000f"
      },
      "execution_count": null,
      "outputs": [
        {
          "output_type": "stream",
          "name": "stdout",
          "text": [
            "This Dataframe has 21613 rows over 21 columns\n"
          ]
        }
      ]
    },
    {
      "cell_type": "markdown",
      "source": [
        "#### Show the first 5 lines"
      ],
      "metadata": {
        "id": "qLI2MALFx6T2"
      }
    },
    {
      "cell_type": "code",
      "source": [
        "salesusa.head()"
      ],
      "metadata": {
        "colab": {
          "base_uri": "https://localhost:8080/",
          "height": 299
        },
        "id": "opeSgXoKQ53n",
        "outputId": "50c19cec-46c8-4c27-b471-ec772dd36998"
      },
      "execution_count": null,
      "outputs": [
        {
          "output_type": "execute_result",
          "data": {
            "text/html": [
              "\n",
              "  <div id=\"df-172a9f35-fa80-46cc-982d-405de3253a12\">\n",
              "    <div class=\"colab-df-container\">\n",
              "      <div>\n",
              "<style scoped>\n",
              "    .dataframe tbody tr th:only-of-type {\n",
              "        vertical-align: middle;\n",
              "    }\n",
              "\n",
              "    .dataframe tbody tr th {\n",
              "        vertical-align: top;\n",
              "    }\n",
              "\n",
              "    .dataframe thead th {\n",
              "        text-align: right;\n",
              "    }\n",
              "</style>\n",
              "<table border=\"1\" class=\"dataframe\">\n",
              "  <thead>\n",
              "    <tr style=\"text-align: right;\">\n",
              "      <th></th>\n",
              "      <th>id</th>\n",
              "      <th>date</th>\n",
              "      <th>price</th>\n",
              "      <th>bedrooms</th>\n",
              "      <th>bathrooms</th>\n",
              "      <th>sqft_living</th>\n",
              "      <th>sqft_lot</th>\n",
              "      <th>floors</th>\n",
              "      <th>waterfront</th>\n",
              "      <th>view</th>\n",
              "      <th>...</th>\n",
              "      <th>grade</th>\n",
              "      <th>sqft_above</th>\n",
              "      <th>sqft_basement</th>\n",
              "      <th>yr_built</th>\n",
              "      <th>yr_renovated</th>\n",
              "      <th>zipcode</th>\n",
              "      <th>lat</th>\n",
              "      <th>long</th>\n",
              "      <th>sqft_living15</th>\n",
              "      <th>sqft_lot15</th>\n",
              "    </tr>\n",
              "  </thead>\n",
              "  <tbody>\n",
              "    <tr>\n",
              "      <th>0</th>\n",
              "      <td>7129300520</td>\n",
              "      <td>20141013T000000</td>\n",
              "      <td>221,900.00</td>\n",
              "      <td>3</td>\n",
              "      <td>1.00</td>\n",
              "      <td>1180</td>\n",
              "      <td>5650</td>\n",
              "      <td>1.00</td>\n",
              "      <td>0</td>\n",
              "      <td>0</td>\n",
              "      <td>...</td>\n",
              "      <td>7</td>\n",
              "      <td>1180</td>\n",
              "      <td>0</td>\n",
              "      <td>1955</td>\n",
              "      <td>0</td>\n",
              "      <td>98178</td>\n",
              "      <td>47.51</td>\n",
              "      <td>-122.26</td>\n",
              "      <td>1340</td>\n",
              "      <td>5650</td>\n",
              "    </tr>\n",
              "    <tr>\n",
              "      <th>1</th>\n",
              "      <td>6414100192</td>\n",
              "      <td>20141209T000000</td>\n",
              "      <td>538,000.00</td>\n",
              "      <td>3</td>\n",
              "      <td>2.25</td>\n",
              "      <td>2570</td>\n",
              "      <td>7242</td>\n",
              "      <td>2.00</td>\n",
              "      <td>0</td>\n",
              "      <td>0</td>\n",
              "      <td>...</td>\n",
              "      <td>7</td>\n",
              "      <td>2170</td>\n",
              "      <td>400</td>\n",
              "      <td>1951</td>\n",
              "      <td>1991</td>\n",
              "      <td>98125</td>\n",
              "      <td>47.72</td>\n",
              "      <td>-122.32</td>\n",
              "      <td>1690</td>\n",
              "      <td>7639</td>\n",
              "    </tr>\n",
              "    <tr>\n",
              "      <th>2</th>\n",
              "      <td>5631500400</td>\n",
              "      <td>20150225T000000</td>\n",
              "      <td>180,000.00</td>\n",
              "      <td>2</td>\n",
              "      <td>1.00</td>\n",
              "      <td>770</td>\n",
              "      <td>10000</td>\n",
              "      <td>1.00</td>\n",
              "      <td>0</td>\n",
              "      <td>0</td>\n",
              "      <td>...</td>\n",
              "      <td>6</td>\n",
              "      <td>770</td>\n",
              "      <td>0</td>\n",
              "      <td>1933</td>\n",
              "      <td>0</td>\n",
              "      <td>98028</td>\n",
              "      <td>47.74</td>\n",
              "      <td>-122.23</td>\n",
              "      <td>2720</td>\n",
              "      <td>8062</td>\n",
              "    </tr>\n",
              "    <tr>\n",
              "      <th>3</th>\n",
              "      <td>2487200875</td>\n",
              "      <td>20141209T000000</td>\n",
              "      <td>604,000.00</td>\n",
              "      <td>4</td>\n",
              "      <td>3.00</td>\n",
              "      <td>1960</td>\n",
              "      <td>5000</td>\n",
              "      <td>1.00</td>\n",
              "      <td>0</td>\n",
              "      <td>0</td>\n",
              "      <td>...</td>\n",
              "      <td>7</td>\n",
              "      <td>1050</td>\n",
              "      <td>910</td>\n",
              "      <td>1965</td>\n",
              "      <td>0</td>\n",
              "      <td>98136</td>\n",
              "      <td>47.52</td>\n",
              "      <td>-122.39</td>\n",
              "      <td>1360</td>\n",
              "      <td>5000</td>\n",
              "    </tr>\n",
              "    <tr>\n",
              "      <th>4</th>\n",
              "      <td>1954400510</td>\n",
              "      <td>20150218T000000</td>\n",
              "      <td>510,000.00</td>\n",
              "      <td>3</td>\n",
              "      <td>2.00</td>\n",
              "      <td>1680</td>\n",
              "      <td>8080</td>\n",
              "      <td>1.00</td>\n",
              "      <td>0</td>\n",
              "      <td>0</td>\n",
              "      <td>...</td>\n",
              "      <td>8</td>\n",
              "      <td>1680</td>\n",
              "      <td>0</td>\n",
              "      <td>1987</td>\n",
              "      <td>0</td>\n",
              "      <td>98074</td>\n",
              "      <td>47.62</td>\n",
              "      <td>-122.05</td>\n",
              "      <td>1800</td>\n",
              "      <td>7503</td>\n",
              "    </tr>\n",
              "  </tbody>\n",
              "</table>\n",
              "<p>5 rows × 21 columns</p>\n",
              "</div>\n",
              "      <button class=\"colab-df-convert\" onclick=\"convertToInteractive('df-172a9f35-fa80-46cc-982d-405de3253a12')\"\n",
              "              title=\"Convert this dataframe to an interactive table.\"\n",
              "              style=\"display:none;\">\n",
              "        \n",
              "  <svg xmlns=\"http://www.w3.org/2000/svg\" height=\"24px\"viewBox=\"0 0 24 24\"\n",
              "       width=\"24px\">\n",
              "    <path d=\"M0 0h24v24H0V0z\" fill=\"none\"/>\n",
              "    <path d=\"M18.56 5.44l.94 2.06.94-2.06 2.06-.94-2.06-.94-.94-2.06-.94 2.06-2.06.94zm-11 1L8.5 8.5l.94-2.06 2.06-.94-2.06-.94L8.5 2.5l-.94 2.06-2.06.94zm10 10l.94 2.06.94-2.06 2.06-.94-2.06-.94-.94-2.06-.94 2.06-2.06.94z\"/><path d=\"M17.41 7.96l-1.37-1.37c-.4-.4-.92-.59-1.43-.59-.52 0-1.04.2-1.43.59L10.3 9.45l-7.72 7.72c-.78.78-.78 2.05 0 2.83L4 21.41c.39.39.9.59 1.41.59.51 0 1.02-.2 1.41-.59l7.78-7.78 2.81-2.81c.8-.78.8-2.07 0-2.86zM5.41 20L4 18.59l7.72-7.72 1.47 1.35L5.41 20z\"/>\n",
              "  </svg>\n",
              "      </button>\n",
              "      \n",
              "  <style>\n",
              "    .colab-df-container {\n",
              "      display:flex;\n",
              "      flex-wrap:wrap;\n",
              "      gap: 12px;\n",
              "    }\n",
              "\n",
              "    .colab-df-convert {\n",
              "      background-color: #E8F0FE;\n",
              "      border: none;\n",
              "      border-radius: 50%;\n",
              "      cursor: pointer;\n",
              "      display: none;\n",
              "      fill: #1967D2;\n",
              "      height: 32px;\n",
              "      padding: 0 0 0 0;\n",
              "      width: 32px;\n",
              "    }\n",
              "\n",
              "    .colab-df-convert:hover {\n",
              "      background-color: #E2EBFA;\n",
              "      box-shadow: 0px 1px 2px rgba(60, 64, 67, 0.3), 0px 1px 3px 1px rgba(60, 64, 67, 0.15);\n",
              "      fill: #174EA6;\n",
              "    }\n",
              "\n",
              "    [theme=dark] .colab-df-convert {\n",
              "      background-color: #3B4455;\n",
              "      fill: #D2E3FC;\n",
              "    }\n",
              "\n",
              "    [theme=dark] .colab-df-convert:hover {\n",
              "      background-color: #434B5C;\n",
              "      box-shadow: 0px 1px 3px 1px rgba(0, 0, 0, 0.15);\n",
              "      filter: drop-shadow(0px 1px 2px rgba(0, 0, 0, 0.3));\n",
              "      fill: #FFFFFF;\n",
              "    }\n",
              "  </style>\n",
              "\n",
              "      <script>\n",
              "        const buttonEl =\n",
              "          document.querySelector('#df-172a9f35-fa80-46cc-982d-405de3253a12 button.colab-df-convert');\n",
              "        buttonEl.style.display =\n",
              "          google.colab.kernel.accessAllowed ? 'block' : 'none';\n",
              "\n",
              "        async function convertToInteractive(key) {\n",
              "          const element = document.querySelector('#df-172a9f35-fa80-46cc-982d-405de3253a12');\n",
              "          const dataTable =\n",
              "            await google.colab.kernel.invokeFunction('convertToInteractive',\n",
              "                                                     [key], {});\n",
              "          if (!dataTable) return;\n",
              "\n",
              "          const docLinkHtml = 'Like what you see? Visit the ' +\n",
              "            '<a target=\"_blank\" href=https://colab.research.google.com/notebooks/data_table.ipynb>data table notebook</a>'\n",
              "            + ' to learn more about interactive tables.';\n",
              "          element.innerHTML = '';\n",
              "          dataTable['output_type'] = 'display_data';\n",
              "          await google.colab.output.renderOutput(dataTable, element);\n",
              "          const docLink = document.createElement('div');\n",
              "          docLink.innerHTML = docLinkHtml;\n",
              "          element.appendChild(docLink);\n",
              "        }\n",
              "      </script>\n",
              "    </div>\n",
              "  </div>\n",
              "  "
            ],
            "text/plain": [
              "           id             date      price  bedrooms  bathrooms  sqft_living  \\\n",
              "0  7129300520  20141013T000000 221,900.00         3       1.00         1180   \n",
              "1  6414100192  20141209T000000 538,000.00         3       2.25         2570   \n",
              "2  5631500400  20150225T000000 180,000.00         2       1.00          770   \n",
              "3  2487200875  20141209T000000 604,000.00         4       3.00         1960   \n",
              "4  1954400510  20150218T000000 510,000.00         3       2.00         1680   \n",
              "\n",
              "   sqft_lot  floors  waterfront  view  ...  grade  sqft_above  sqft_basement  \\\n",
              "0      5650    1.00           0     0  ...      7        1180              0   \n",
              "1      7242    2.00           0     0  ...      7        2170            400   \n",
              "2     10000    1.00           0     0  ...      6         770              0   \n",
              "3      5000    1.00           0     0  ...      7        1050            910   \n",
              "4      8080    1.00           0     0  ...      8        1680              0   \n",
              "\n",
              "   yr_built  yr_renovated  zipcode   lat    long  sqft_living15  sqft_lot15  \n",
              "0      1955             0    98178 47.51 -122.26           1340        5650  \n",
              "1      1951          1991    98125 47.72 -122.32           1690        7639  \n",
              "2      1933             0    98028 47.74 -122.23           2720        8062  \n",
              "3      1965             0    98136 47.52 -122.39           1360        5000  \n",
              "4      1987             0    98074 47.62 -122.05           1800        7503  \n",
              "\n",
              "[5 rows x 21 columns]"
            ]
          },
          "metadata": {},
          "execution_count": 5
        }
      ]
    },
    {
      "cell_type": "markdown",
      "source": [
        "#### Data Dictionary"
      ],
      "metadata": {
        "id": "6CtUcPmNyLAK"
      }
    },
    {
      "cell_type": "markdown",
      "source": [
        "* **id** - Unique ID for each home sold\n",
        "* **date** - Date of the home sale\n",
        "* **price** - Price of each home sold\n",
        "* **bedrooms** - Number of bedrooms\n",
        "* **bathrooms** - Number of bathrooms, where .5 accounts for a room with a toilet but no shower\n",
        "* **sqft_living** - Square footage of the apartments interior living space\n",
        "* **sqft_lot** - Square footage of the land space\n",
        "* **floors** - Number of floors\n",
        "* **waterfront** - A dummy variable for whether the apartment was overlooking the waterfront or not\n",
        "* **view** - An index from 0 to 4 of how good the view of the property was\n",
        "* **condition** - An index from 1 to 5 on the condition of the apartment\n",
        "* **grade** - An index from 1 to 13, where 1-3 falls short of building construction and design, 7 has an average level of construction and design, and 11-13 have a high quality level of construction and design.\n",
        "* **sqft_above** - The square footage of the interior housing space that is above ground level\n",
        "* **sqft_basement** - The square footage of the interior housing space that is below ground level\n",
        "* **yr_built** - The year the house was initially built\n",
        "* **yr_renovated** - The year of the house’s last renovation\n",
        "* **zipcode** - What zipcode area the house is in\n",
        "* **lat** - Lattitude\n",
        "* **long** - Longitude\n",
        "* **sqft_living15** - The square footage of interior housing living space for the nearest 15 neighbors\n",
        "* **sqft_lot15** - The square footage of the land lots of the nearest 15 neighbors"
      ],
      "metadata": {
        "id": "YpeDAJpz2pPG"
      }
    },
    {
      "cell_type": "markdown",
      "source": [
        "### Cleanup"
      ],
      "metadata": {
        "id": "8yfNIJJq9Jan"
      }
    },
    {
      "cell_type": "markdown",
      "source": [
        "#### Null Values"
      ],
      "metadata": {
        "id": "8XsP4jlr9KhX"
      }
    },
    {
      "cell_type": "markdown",
      "source": [
        "This dataset doesn't contain any NaN values, so further cleanup in this area is not required"
      ],
      "metadata": {
        "id": "5DoGd_7J9OOE"
      }
    },
    {
      "cell_type": "code",
      "source": [
        "salesusa.isnull().sum()"
      ],
      "metadata": {
        "colab": {
          "base_uri": "https://localhost:8080/"
        },
        "id": "ifLybBqz86oo",
        "outputId": "c159f604-d7f0-4420-cb15-bd1bf516b8d5"
      },
      "execution_count": null,
      "outputs": [
        {
          "output_type": "execute_result",
          "data": {
            "text/plain": [
              "id               0\n",
              "date             0\n",
              "price            0\n",
              "bedrooms         0\n",
              "bathrooms        0\n",
              "sqft_living      0\n",
              "sqft_lot         0\n",
              "floors           0\n",
              "waterfront       0\n",
              "view             0\n",
              "condition        0\n",
              "grade            0\n",
              "sqft_above       0\n",
              "sqft_basement    0\n",
              "yr_built         0\n",
              "yr_renovated     0\n",
              "zipcode          0\n",
              "lat              0\n",
              "long             0\n",
              "sqft_living15    0\n",
              "sqft_lot15       0\n",
              "dtype: int64"
            ]
          },
          "metadata": {},
          "execution_count": 6
        }
      ]
    },
    {
      "cell_type": "markdown",
      "source": [
        "#### Validating Datatypes"
      ],
      "metadata": {
        "id": "tFousjtE9Z3d"
      }
    },
    {
      "cell_type": "code",
      "source": [
        "salesusa.info()"
      ],
      "metadata": {
        "colab": {
          "base_uri": "https://localhost:8080/"
        },
        "id": "Rt6o3trk9bfX",
        "outputId": "710178cf-fe3e-4154-f106-49e365e9b545"
      },
      "execution_count": null,
      "outputs": [
        {
          "output_type": "stream",
          "name": "stdout",
          "text": [
            "<class 'pandas.core.frame.DataFrame'>\n",
            "RangeIndex: 21613 entries, 0 to 21612\n",
            "Data columns (total 21 columns):\n",
            " #   Column         Non-Null Count  Dtype  \n",
            "---  ------         --------------  -----  \n",
            " 0   id             21613 non-null  int64  \n",
            " 1   date           21613 non-null  object \n",
            " 2   price          21613 non-null  float64\n",
            " 3   bedrooms       21613 non-null  int64  \n",
            " 4   bathrooms      21613 non-null  float64\n",
            " 5   sqft_living    21613 non-null  int64  \n",
            " 6   sqft_lot       21613 non-null  int64  \n",
            " 7   floors         21613 non-null  float64\n",
            " 8   waterfront     21613 non-null  int64  \n",
            " 9   view           21613 non-null  int64  \n",
            " 10  condition      21613 non-null  int64  \n",
            " 11  grade          21613 non-null  int64  \n",
            " 12  sqft_above     21613 non-null  int64  \n",
            " 13  sqft_basement  21613 non-null  int64  \n",
            " 14  yr_built       21613 non-null  int64  \n",
            " 15  yr_renovated   21613 non-null  int64  \n",
            " 16  zipcode        21613 non-null  int64  \n",
            " 17  lat            21613 non-null  float64\n",
            " 18  long           21613 non-null  float64\n",
            " 19  sqft_living15  21613 non-null  int64  \n",
            " 20  sqft_lot15     21613 non-null  int64  \n",
            "dtypes: float64(5), int64(15), object(1)\n",
            "memory usage: 3.5+ MB\n"
          ]
        }
      ]
    },
    {
      "cell_type": "markdown",
      "source": [
        "Transforming the date into a valid datetime object"
      ],
      "metadata": {
        "id": "Hh5FRAtIH-Qj"
      }
    },
    {
      "cell_type": "code",
      "source": [
        "salesusa['date'] = pd.to_datetime(salesusa['date'])"
      ],
      "metadata": {
        "id": "EKTNisyEw8i8"
      },
      "execution_count": null,
      "outputs": []
    },
    {
      "cell_type": "code",
      "source": [
        "salesusa.info()"
      ],
      "metadata": {
        "colab": {
          "base_uri": "https://localhost:8080/"
        },
        "id": "Tzpq3qz7w2dA",
        "outputId": "91ab380e-49f2-43a1-dea3-8b6dcb383353"
      },
      "execution_count": null,
      "outputs": [
        {
          "output_type": "stream",
          "name": "stdout",
          "text": [
            "<class 'pandas.core.frame.DataFrame'>\n",
            "RangeIndex: 21613 entries, 0 to 21612\n",
            "Data columns (total 21 columns):\n",
            " #   Column         Non-Null Count  Dtype         \n",
            "---  ------         --------------  -----         \n",
            " 0   id             21613 non-null  int64         \n",
            " 1   date           21613 non-null  datetime64[ns]\n",
            " 2   price          21613 non-null  float64       \n",
            " 3   bedrooms       21613 non-null  int64         \n",
            " 4   bathrooms      21613 non-null  float64       \n",
            " 5   sqft_living    21613 non-null  int64         \n",
            " 6   sqft_lot       21613 non-null  int64         \n",
            " 7   floors         21613 non-null  float64       \n",
            " 8   waterfront     21613 non-null  int64         \n",
            " 9   view           21613 non-null  int64         \n",
            " 10  condition      21613 non-null  int64         \n",
            " 11  grade          21613 non-null  int64         \n",
            " 12  sqft_above     21613 non-null  int64         \n",
            " 13  sqft_basement  21613 non-null  int64         \n",
            " 14  yr_built       21613 non-null  int64         \n",
            " 15  yr_renovated   21613 non-null  int64         \n",
            " 16  zipcode        21613 non-null  int64         \n",
            " 17  lat            21613 non-null  float64       \n",
            " 18  long           21613 non-null  float64       \n",
            " 19  sqft_living15  21613 non-null  int64         \n",
            " 20  sqft_lot15     21613 non-null  int64         \n",
            "dtypes: datetime64[ns](1), float64(5), int64(15)\n",
            "memory usage: 3.5 MB\n"
          ]
        }
      ]
    },
    {
      "cell_type": "markdown",
      "source": [
        "#### Duplicates Rows"
      ],
      "metadata": {
        "id": "lGRyt0vFIINX"
      }
    },
    {
      "cell_type": "code",
      "source": [
        "salesusa.nunique()"
      ],
      "metadata": {
        "colab": {
          "base_uri": "https://localhost:8080/"
        },
        "id": "p6x4C0Shw6yJ",
        "outputId": "b898c83a-e9b0-4bc7-82fe-eea8178a9a59"
      },
      "execution_count": null,
      "outputs": [
        {
          "output_type": "execute_result",
          "data": {
            "text/plain": [
              "id               21436\n",
              "date               372\n",
              "price             3625\n",
              "bedrooms            13\n",
              "bathrooms           30\n",
              "sqft_living       1038\n",
              "sqft_lot          9782\n",
              "floors               6\n",
              "waterfront           2\n",
              "view                 5\n",
              "condition            5\n",
              "grade               12\n",
              "sqft_above         946\n",
              "sqft_basement      306\n",
              "yr_built           116\n",
              "yr_renovated        70\n",
              "zipcode             70\n",
              "lat               5034\n",
              "long               752\n",
              "sqft_living15      777\n",
              "sqft_lot15        8689\n",
              "dtype: int64"
            ]
          },
          "metadata": {},
          "execution_count": 10
        }
      ]
    },
    {
      "cell_type": "markdown",
      "source": [
        "Number of unique values in id should be equal to the number of rows - 21613. <br> \n",
        "Lets undertand the reason its not"
      ],
      "metadata": {
        "id": "MZv7wlp5Ic9-"
      }
    },
    {
      "cell_type": "code",
      "source": [
        "pd.set_option('display.max_rows', 10)"
      ],
      "metadata": {
        "id": "G4MKcOmVLJ7z"
      },
      "execution_count": null,
      "outputs": []
    },
    {
      "cell_type": "code",
      "source": [
        "salesusa[salesusa['id'].duplicated()].sort_values('id').head()"
      ],
      "metadata": {
        "colab": {
          "base_uri": "https://localhost:8080/",
          "height": 386
        },
        "id": "I0-pxc6TIOvH",
        "outputId": "fe17f7fb-f56b-4b44-c6b4-6f143040800f"
      },
      "execution_count": null,
      "outputs": [
        {
          "output_type": "execute_result",
          "data": {
            "text/html": [
              "\n",
              "  <div id=\"df-930f26a7-1480-412c-968c-1f901ed9cb1e\">\n",
              "    <div class=\"colab-df-container\">\n",
              "      <div>\n",
              "<style scoped>\n",
              "    .dataframe tbody tr th:only-of-type {\n",
              "        vertical-align: middle;\n",
              "    }\n",
              "\n",
              "    .dataframe tbody tr th {\n",
              "        vertical-align: top;\n",
              "    }\n",
              "\n",
              "    .dataframe thead th {\n",
              "        text-align: right;\n",
              "    }\n",
              "</style>\n",
              "<table border=\"1\" class=\"dataframe\">\n",
              "  <thead>\n",
              "    <tr style=\"text-align: right;\">\n",
              "      <th></th>\n",
              "      <th>id</th>\n",
              "      <th>date</th>\n",
              "      <th>price</th>\n",
              "      <th>bedrooms</th>\n",
              "      <th>bathrooms</th>\n",
              "      <th>sqft_living</th>\n",
              "      <th>sqft_lot</th>\n",
              "      <th>floors</th>\n",
              "      <th>waterfront</th>\n",
              "      <th>view</th>\n",
              "      <th>...</th>\n",
              "      <th>grade</th>\n",
              "      <th>sqft_above</th>\n",
              "      <th>sqft_basement</th>\n",
              "      <th>yr_built</th>\n",
              "      <th>yr_renovated</th>\n",
              "      <th>zipcode</th>\n",
              "      <th>lat</th>\n",
              "      <th>long</th>\n",
              "      <th>sqft_living15</th>\n",
              "      <th>sqft_lot15</th>\n",
              "    </tr>\n",
              "  </thead>\n",
              "  <tbody>\n",
              "    <tr>\n",
              "      <th>2497</th>\n",
              "      <td>1000102</td>\n",
              "      <td>2015-04-22</td>\n",
              "      <td>300,000.00</td>\n",
              "      <td>6</td>\n",
              "      <td>3.00</td>\n",
              "      <td>2400</td>\n",
              "      <td>9373</td>\n",
              "      <td>2.00</td>\n",
              "      <td>0</td>\n",
              "      <td>0</td>\n",
              "      <td>...</td>\n",
              "      <td>7</td>\n",
              "      <td>2400</td>\n",
              "      <td>0</td>\n",
              "      <td>1991</td>\n",
              "      <td>0</td>\n",
              "      <td>98002</td>\n",
              "      <td>47.33</td>\n",
              "      <td>-122.21</td>\n",
              "      <td>2060</td>\n",
              "      <td>7316</td>\n",
              "    </tr>\n",
              "    <tr>\n",
              "      <th>16815</th>\n",
              "      <td>7200179</td>\n",
              "      <td>2015-04-24</td>\n",
              "      <td>175,000.00</td>\n",
              "      <td>2</td>\n",
              "      <td>1.00</td>\n",
              "      <td>840</td>\n",
              "      <td>12750</td>\n",
              "      <td>1.00</td>\n",
              "      <td>0</td>\n",
              "      <td>0</td>\n",
              "      <td>...</td>\n",
              "      <td>6</td>\n",
              "      <td>840</td>\n",
              "      <td>0</td>\n",
              "      <td>1925</td>\n",
              "      <td>0</td>\n",
              "      <td>98055</td>\n",
              "      <td>47.48</td>\n",
              "      <td>-122.21</td>\n",
              "      <td>1480</td>\n",
              "      <td>6969</td>\n",
              "    </tr>\n",
              "    <tr>\n",
              "      <th>11434</th>\n",
              "      <td>109200390</td>\n",
              "      <td>2014-10-20</td>\n",
              "      <td>250,000.00</td>\n",
              "      <td>3</td>\n",
              "      <td>1.75</td>\n",
              "      <td>1480</td>\n",
              "      <td>3900</td>\n",
              "      <td>1.00</td>\n",
              "      <td>0</td>\n",
              "      <td>0</td>\n",
              "      <td>...</td>\n",
              "      <td>7</td>\n",
              "      <td>1480</td>\n",
              "      <td>0</td>\n",
              "      <td>1980</td>\n",
              "      <td>0</td>\n",
              "      <td>98023</td>\n",
              "      <td>47.30</td>\n",
              "      <td>-122.37</td>\n",
              "      <td>1830</td>\n",
              "      <td>6956</td>\n",
              "    </tr>\n",
              "    <tr>\n",
              "      <th>12418</th>\n",
              "      <td>123039336</td>\n",
              "      <td>2014-12-08</td>\n",
              "      <td>244,900.00</td>\n",
              "      <td>1</td>\n",
              "      <td>1.00</td>\n",
              "      <td>620</td>\n",
              "      <td>8261</td>\n",
              "      <td>1.00</td>\n",
              "      <td>0</td>\n",
              "      <td>0</td>\n",
              "      <td>...</td>\n",
              "      <td>5</td>\n",
              "      <td>620</td>\n",
              "      <td>0</td>\n",
              "      <td>1939</td>\n",
              "      <td>0</td>\n",
              "      <td>98106</td>\n",
              "      <td>47.51</td>\n",
              "      <td>-122.36</td>\n",
              "      <td>1180</td>\n",
              "      <td>8244</td>\n",
              "    </tr>\n",
              "    <tr>\n",
              "      <th>7793</th>\n",
              "      <td>251300110</td>\n",
              "      <td>2015-01-14</td>\n",
              "      <td>358,000.00</td>\n",
              "      <td>3</td>\n",
              "      <td>2.25</td>\n",
              "      <td>2510</td>\n",
              "      <td>12013</td>\n",
              "      <td>2.00</td>\n",
              "      <td>0</td>\n",
              "      <td>0</td>\n",
              "      <td>...</td>\n",
              "      <td>8</td>\n",
              "      <td>2510</td>\n",
              "      <td>0</td>\n",
              "      <td>1988</td>\n",
              "      <td>0</td>\n",
              "      <td>98003</td>\n",
              "      <td>47.35</td>\n",
              "      <td>-122.31</td>\n",
              "      <td>1870</td>\n",
              "      <td>8017</td>\n",
              "    </tr>\n",
              "  </tbody>\n",
              "</table>\n",
              "<p>5 rows × 21 columns</p>\n",
              "</div>\n",
              "      <button class=\"colab-df-convert\" onclick=\"convertToInteractive('df-930f26a7-1480-412c-968c-1f901ed9cb1e')\"\n",
              "              title=\"Convert this dataframe to an interactive table.\"\n",
              "              style=\"display:none;\">\n",
              "        \n",
              "  <svg xmlns=\"http://www.w3.org/2000/svg\" height=\"24px\"viewBox=\"0 0 24 24\"\n",
              "       width=\"24px\">\n",
              "    <path d=\"M0 0h24v24H0V0z\" fill=\"none\"/>\n",
              "    <path d=\"M18.56 5.44l.94 2.06.94-2.06 2.06-.94-2.06-.94-.94-2.06-.94 2.06-2.06.94zm-11 1L8.5 8.5l.94-2.06 2.06-.94-2.06-.94L8.5 2.5l-.94 2.06-2.06.94zm10 10l.94 2.06.94-2.06 2.06-.94-2.06-.94-.94-2.06-.94 2.06-2.06.94z\"/><path d=\"M17.41 7.96l-1.37-1.37c-.4-.4-.92-.59-1.43-.59-.52 0-1.04.2-1.43.59L10.3 9.45l-7.72 7.72c-.78.78-.78 2.05 0 2.83L4 21.41c.39.39.9.59 1.41.59.51 0 1.02-.2 1.41-.59l7.78-7.78 2.81-2.81c.8-.78.8-2.07 0-2.86zM5.41 20L4 18.59l7.72-7.72 1.47 1.35L5.41 20z\"/>\n",
              "  </svg>\n",
              "      </button>\n",
              "      \n",
              "  <style>\n",
              "    .colab-df-container {\n",
              "      display:flex;\n",
              "      flex-wrap:wrap;\n",
              "      gap: 12px;\n",
              "    }\n",
              "\n",
              "    .colab-df-convert {\n",
              "      background-color: #E8F0FE;\n",
              "      border: none;\n",
              "      border-radius: 50%;\n",
              "      cursor: pointer;\n",
              "      display: none;\n",
              "      fill: #1967D2;\n",
              "      height: 32px;\n",
              "      padding: 0 0 0 0;\n",
              "      width: 32px;\n",
              "    }\n",
              "\n",
              "    .colab-df-convert:hover {\n",
              "      background-color: #E2EBFA;\n",
              "      box-shadow: 0px 1px 2px rgba(60, 64, 67, 0.3), 0px 1px 3px 1px rgba(60, 64, 67, 0.15);\n",
              "      fill: #174EA6;\n",
              "    }\n",
              "\n",
              "    [theme=dark] .colab-df-convert {\n",
              "      background-color: #3B4455;\n",
              "      fill: #D2E3FC;\n",
              "    }\n",
              "\n",
              "    [theme=dark] .colab-df-convert:hover {\n",
              "      background-color: #434B5C;\n",
              "      box-shadow: 0px 1px 3px 1px rgba(0, 0, 0, 0.15);\n",
              "      filter: drop-shadow(0px 1px 2px rgba(0, 0, 0, 0.3));\n",
              "      fill: #FFFFFF;\n",
              "    }\n",
              "  </style>\n",
              "\n",
              "      <script>\n",
              "        const buttonEl =\n",
              "          document.querySelector('#df-930f26a7-1480-412c-968c-1f901ed9cb1e button.colab-df-convert');\n",
              "        buttonEl.style.display =\n",
              "          google.colab.kernel.accessAllowed ? 'block' : 'none';\n",
              "\n",
              "        async function convertToInteractive(key) {\n",
              "          const element = document.querySelector('#df-930f26a7-1480-412c-968c-1f901ed9cb1e');\n",
              "          const dataTable =\n",
              "            await google.colab.kernel.invokeFunction('convertToInteractive',\n",
              "                                                     [key], {});\n",
              "          if (!dataTable) return;\n",
              "\n",
              "          const docLinkHtml = 'Like what you see? Visit the ' +\n",
              "            '<a target=\"_blank\" href=https://colab.research.google.com/notebooks/data_table.ipynb>data table notebook</a>'\n",
              "            + ' to learn more about interactive tables.';\n",
              "          element.innerHTML = '';\n",
              "          dataTable['output_type'] = 'display_data';\n",
              "          await google.colab.output.renderOutput(dataTable, element);\n",
              "          const docLink = document.createElement('div');\n",
              "          docLink.innerHTML = docLinkHtml;\n",
              "          element.appendChild(docLink);\n",
              "        }\n",
              "      </script>\n",
              "    </div>\n",
              "  </div>\n",
              "  "
            ],
            "text/plain": [
              "              id       date      price  bedrooms  bathrooms  sqft_living  \\\n",
              "2497     1000102 2015-04-22 300,000.00         6       3.00         2400   \n",
              "16815    7200179 2015-04-24 175,000.00         2       1.00          840   \n",
              "11434  109200390 2014-10-20 250,000.00         3       1.75         1480   \n",
              "12418  123039336 2014-12-08 244,900.00         1       1.00          620   \n",
              "7793   251300110 2015-01-14 358,000.00         3       2.25         2510   \n",
              "\n",
              "       sqft_lot  floors  waterfront  view  ...  grade  sqft_above  \\\n",
              "2497       9373    2.00           0     0  ...      7        2400   \n",
              "16815     12750    1.00           0     0  ...      6         840   \n",
              "11434      3900    1.00           0     0  ...      7        1480   \n",
              "12418      8261    1.00           0     0  ...      5         620   \n",
              "7793      12013    2.00           0     0  ...      8        2510   \n",
              "\n",
              "       sqft_basement  yr_built  yr_renovated  zipcode   lat    long  \\\n",
              "2497               0      1991             0    98002 47.33 -122.21   \n",
              "16815              0      1925             0    98055 47.48 -122.21   \n",
              "11434              0      1980             0    98023 47.30 -122.37   \n",
              "12418              0      1939             0    98106 47.51 -122.36   \n",
              "7793               0      1988             0    98003 47.35 -122.31   \n",
              "\n",
              "       sqft_living15  sqft_lot15  \n",
              "2497            2060        7316  \n",
              "16815           1480        6969  \n",
              "11434           1830        6956  \n",
              "12418           1180        8244  \n",
              "7793            1870        8017  \n",
              "\n",
              "[5 rows x 21 columns]"
            ]
          },
          "metadata": {},
          "execution_count": 12
        }
      ]
    },
    {
      "cell_type": "markdown",
      "source": [
        "We can be seen that there are duplications in the id column, because the same house was sold twice but in different years"
      ],
      "metadata": {
        "id": "lTUOcTw1MHqW"
      }
    },
    {
      "cell_type": "code",
      "source": [
        "salesusa[salesusa['zipcode'].duplicated()].sort_values('zipcode').head()"
      ],
      "metadata": {
        "colab": {
          "base_uri": "https://localhost:8080/",
          "height": 386
        },
        "id": "Oqs3e719Riz-",
        "outputId": "4e223f82-0c72-4dc9-e921-1a3491ddcd30"
      },
      "execution_count": null,
      "outputs": [
        {
          "output_type": "execute_result",
          "data": {
            "text/html": [
              "\n",
              "  <div id=\"df-ee1f595f-eeb0-4772-8b0d-3c6e7707f0ec\">\n",
              "    <div class=\"colab-df-container\">\n",
              "      <div>\n",
              "<style scoped>\n",
              "    .dataframe tbody tr th:only-of-type {\n",
              "        vertical-align: middle;\n",
              "    }\n",
              "\n",
              "    .dataframe tbody tr th {\n",
              "        vertical-align: top;\n",
              "    }\n",
              "\n",
              "    .dataframe thead th {\n",
              "        text-align: right;\n",
              "    }\n",
              "</style>\n",
              "<table border=\"1\" class=\"dataframe\">\n",
              "  <thead>\n",
              "    <tr style=\"text-align: right;\">\n",
              "      <th></th>\n",
              "      <th>id</th>\n",
              "      <th>date</th>\n",
              "      <th>price</th>\n",
              "      <th>bedrooms</th>\n",
              "      <th>bathrooms</th>\n",
              "      <th>sqft_living</th>\n",
              "      <th>sqft_lot</th>\n",
              "      <th>floors</th>\n",
              "      <th>waterfront</th>\n",
              "      <th>view</th>\n",
              "      <th>...</th>\n",
              "      <th>grade</th>\n",
              "      <th>sqft_above</th>\n",
              "      <th>sqft_basement</th>\n",
              "      <th>yr_built</th>\n",
              "      <th>yr_renovated</th>\n",
              "      <th>zipcode</th>\n",
              "      <th>lat</th>\n",
              "      <th>long</th>\n",
              "      <th>sqft_living15</th>\n",
              "      <th>sqft_lot15</th>\n",
              "    </tr>\n",
              "  </thead>\n",
              "  <tbody>\n",
              "    <tr>\n",
              "      <th>12927</th>\n",
              "      <td>7968000120</td>\n",
              "      <td>2014-05-09</td>\n",
              "      <td>290,000.00</td>\n",
              "      <td>4</td>\n",
              "      <td>2.50</td>\n",
              "      <td>2000</td>\n",
              "      <td>13300</td>\n",
              "      <td>1.00</td>\n",
              "      <td>0</td>\n",
              "      <td>0</td>\n",
              "      <td>...</td>\n",
              "      <td>7</td>\n",
              "      <td>1200</td>\n",
              "      <td>800</td>\n",
              "      <td>1968</td>\n",
              "      <td>0</td>\n",
              "      <td>98001</td>\n",
              "      <td>47.35</td>\n",
              "      <td>-122.29</td>\n",
              "      <td>1800</td>\n",
              "      <td>9810</td>\n",
              "    </tr>\n",
              "    <tr>\n",
              "      <th>14501</th>\n",
              "      <td>3353402390</td>\n",
              "      <td>2015-05-01</td>\n",
              "      <td>171,500.00</td>\n",
              "      <td>3</td>\n",
              "      <td>1.00</td>\n",
              "      <td>1150</td>\n",
              "      <td>6480</td>\n",
              "      <td>1.50</td>\n",
              "      <td>0</td>\n",
              "      <td>0</td>\n",
              "      <td>...</td>\n",
              "      <td>5</td>\n",
              "      <td>1150</td>\n",
              "      <td>0</td>\n",
              "      <td>1946</td>\n",
              "      <td>0</td>\n",
              "      <td>98001</td>\n",
              "      <td>47.26</td>\n",
              "      <td>-122.26</td>\n",
              "      <td>1100</td>\n",
              "      <td>7300</td>\n",
              "    </tr>\n",
              "    <tr>\n",
              "      <th>3111</th>\n",
              "      <td>3751600176</td>\n",
              "      <td>2015-03-06</td>\n",
              "      <td>196,000.00</td>\n",
              "      <td>3</td>\n",
              "      <td>1.50</td>\n",
              "      <td>1000</td>\n",
              "      <td>18568</td>\n",
              "      <td>1.00</td>\n",
              "      <td>0</td>\n",
              "      <td>0</td>\n",
              "      <td>...</td>\n",
              "      <td>6</td>\n",
              "      <td>1000</td>\n",
              "      <td>0</td>\n",
              "      <td>1989</td>\n",
              "      <td>0</td>\n",
              "      <td>98001</td>\n",
              "      <td>47.30</td>\n",
              "      <td>-122.27</td>\n",
              "      <td>1610</td>\n",
              "      <td>17420</td>\n",
              "    </tr>\n",
              "    <tr>\n",
              "      <th>14514</th>\n",
              "      <td>8001210120</td>\n",
              "      <td>2014-09-16</td>\n",
              "      <td>234,500.00</td>\n",
              "      <td>4</td>\n",
              "      <td>2.50</td>\n",
              "      <td>1960</td>\n",
              "      <td>7875</td>\n",
              "      <td>1.00</td>\n",
              "      <td>0</td>\n",
              "      <td>0</td>\n",
              "      <td>...</td>\n",
              "      <td>7</td>\n",
              "      <td>1220</td>\n",
              "      <td>740</td>\n",
              "      <td>1978</td>\n",
              "      <td>0</td>\n",
              "      <td>98001</td>\n",
              "      <td>47.34</td>\n",
              "      <td>-122.27</td>\n",
              "      <td>2030</td>\n",
              "      <td>7650</td>\n",
              "    </tr>\n",
              "    <tr>\n",
              "      <th>9464</th>\n",
              "      <td>5647900120</td>\n",
              "      <td>2014-06-13</td>\n",
              "      <td>250,600.00</td>\n",
              "      <td>4</td>\n",
              "      <td>2.50</td>\n",
              "      <td>1930</td>\n",
              "      <td>8660</td>\n",
              "      <td>1.00</td>\n",
              "      <td>0</td>\n",
              "      <td>0</td>\n",
              "      <td>...</td>\n",
              "      <td>7</td>\n",
              "      <td>1120</td>\n",
              "      <td>810</td>\n",
              "      <td>1981</td>\n",
              "      <td>0</td>\n",
              "      <td>98001</td>\n",
              "      <td>47.33</td>\n",
              "      <td>-122.26</td>\n",
              "      <td>1830</td>\n",
              "      <td>9591</td>\n",
              "    </tr>\n",
              "  </tbody>\n",
              "</table>\n",
              "<p>5 rows × 21 columns</p>\n",
              "</div>\n",
              "      <button class=\"colab-df-convert\" onclick=\"convertToInteractive('df-ee1f595f-eeb0-4772-8b0d-3c6e7707f0ec')\"\n",
              "              title=\"Convert this dataframe to an interactive table.\"\n",
              "              style=\"display:none;\">\n",
              "        \n",
              "  <svg xmlns=\"http://www.w3.org/2000/svg\" height=\"24px\"viewBox=\"0 0 24 24\"\n",
              "       width=\"24px\">\n",
              "    <path d=\"M0 0h24v24H0V0z\" fill=\"none\"/>\n",
              "    <path d=\"M18.56 5.44l.94 2.06.94-2.06 2.06-.94-2.06-.94-.94-2.06-.94 2.06-2.06.94zm-11 1L8.5 8.5l.94-2.06 2.06-.94-2.06-.94L8.5 2.5l-.94 2.06-2.06.94zm10 10l.94 2.06.94-2.06 2.06-.94-2.06-.94-.94-2.06-.94 2.06-2.06.94z\"/><path d=\"M17.41 7.96l-1.37-1.37c-.4-.4-.92-.59-1.43-.59-.52 0-1.04.2-1.43.59L10.3 9.45l-7.72 7.72c-.78.78-.78 2.05 0 2.83L4 21.41c.39.39.9.59 1.41.59.51 0 1.02-.2 1.41-.59l7.78-7.78 2.81-2.81c.8-.78.8-2.07 0-2.86zM5.41 20L4 18.59l7.72-7.72 1.47 1.35L5.41 20z\"/>\n",
              "  </svg>\n",
              "      </button>\n",
              "      \n",
              "  <style>\n",
              "    .colab-df-container {\n",
              "      display:flex;\n",
              "      flex-wrap:wrap;\n",
              "      gap: 12px;\n",
              "    }\n",
              "\n",
              "    .colab-df-convert {\n",
              "      background-color: #E8F0FE;\n",
              "      border: none;\n",
              "      border-radius: 50%;\n",
              "      cursor: pointer;\n",
              "      display: none;\n",
              "      fill: #1967D2;\n",
              "      height: 32px;\n",
              "      padding: 0 0 0 0;\n",
              "      width: 32px;\n",
              "    }\n",
              "\n",
              "    .colab-df-convert:hover {\n",
              "      background-color: #E2EBFA;\n",
              "      box-shadow: 0px 1px 2px rgba(60, 64, 67, 0.3), 0px 1px 3px 1px rgba(60, 64, 67, 0.15);\n",
              "      fill: #174EA6;\n",
              "    }\n",
              "\n",
              "    [theme=dark] .colab-df-convert {\n",
              "      background-color: #3B4455;\n",
              "      fill: #D2E3FC;\n",
              "    }\n",
              "\n",
              "    [theme=dark] .colab-df-convert:hover {\n",
              "      background-color: #434B5C;\n",
              "      box-shadow: 0px 1px 3px 1px rgba(0, 0, 0, 0.15);\n",
              "      filter: drop-shadow(0px 1px 2px rgba(0, 0, 0, 0.3));\n",
              "      fill: #FFFFFF;\n",
              "    }\n",
              "  </style>\n",
              "\n",
              "      <script>\n",
              "        const buttonEl =\n",
              "          document.querySelector('#df-ee1f595f-eeb0-4772-8b0d-3c6e7707f0ec button.colab-df-convert');\n",
              "        buttonEl.style.display =\n",
              "          google.colab.kernel.accessAllowed ? 'block' : 'none';\n",
              "\n",
              "        async function convertToInteractive(key) {\n",
              "          const element = document.querySelector('#df-ee1f595f-eeb0-4772-8b0d-3c6e7707f0ec');\n",
              "          const dataTable =\n",
              "            await google.colab.kernel.invokeFunction('convertToInteractive',\n",
              "                                                     [key], {});\n",
              "          if (!dataTable) return;\n",
              "\n",
              "          const docLinkHtml = 'Like what you see? Visit the ' +\n",
              "            '<a target=\"_blank\" href=https://colab.research.google.com/notebooks/data_table.ipynb>data table notebook</a>'\n",
              "            + ' to learn more about interactive tables.';\n",
              "          element.innerHTML = '';\n",
              "          dataTable['output_type'] = 'display_data';\n",
              "          await google.colab.output.renderOutput(dataTable, element);\n",
              "          const docLink = document.createElement('div');\n",
              "          docLink.innerHTML = docLinkHtml;\n",
              "          element.appendChild(docLink);\n",
              "        }\n",
              "      </script>\n",
              "    </div>\n",
              "  </div>\n",
              "  "
            ],
            "text/plain": [
              "               id       date      price  bedrooms  bathrooms  sqft_living  \\\n",
              "12927  7968000120 2014-05-09 290,000.00         4       2.50         2000   \n",
              "14501  3353402390 2015-05-01 171,500.00         3       1.00         1150   \n",
              "3111   3751600176 2015-03-06 196,000.00         3       1.50         1000   \n",
              "14514  8001210120 2014-09-16 234,500.00         4       2.50         1960   \n",
              "9464   5647900120 2014-06-13 250,600.00         4       2.50         1930   \n",
              "\n",
              "       sqft_lot  floors  waterfront  view  ...  grade  sqft_above  \\\n",
              "12927     13300    1.00           0     0  ...      7        1200   \n",
              "14501      6480    1.50           0     0  ...      5        1150   \n",
              "3111      18568    1.00           0     0  ...      6        1000   \n",
              "14514      7875    1.00           0     0  ...      7        1220   \n",
              "9464       8660    1.00           0     0  ...      7        1120   \n",
              "\n",
              "       sqft_basement  yr_built  yr_renovated  zipcode   lat    long  \\\n",
              "12927            800      1968             0    98001 47.35 -122.29   \n",
              "14501              0      1946             0    98001 47.26 -122.26   \n",
              "3111               0      1989             0    98001 47.30 -122.27   \n",
              "14514            740      1978             0    98001 47.34 -122.27   \n",
              "9464             810      1981             0    98001 47.33 -122.26   \n",
              "\n",
              "       sqft_living15  sqft_lot15  \n",
              "12927           1800        9810  \n",
              "14501           1100        7300  \n",
              "3111            1610       17420  \n",
              "14514           2030        7650  \n",
              "9464            1830        9591  \n",
              "\n",
              "[5 rows x 21 columns]"
            ]
          },
          "metadata": {},
          "execution_count": 13
        }
      ]
    },
    {
      "cell_type": "markdown",
      "source": [
        "#### Drop unnecessary columns"
      ],
      "metadata": {
        "id": "kHDCSf5tM5lG"
      }
    },
    {
      "cell_type": "markdown",
      "source": [
        "The bathrooms, and sqft_living15, sqft_lot15 do not contain any usefull data for this analysis, so we can drop them."
      ],
      "metadata": {
        "id": "sfzoxrHtM9yh"
      }
    },
    {
      "cell_type": "code",
      "source": [
        "salesusa.drop(['bathrooms','sqft_living15','sqft_lot15'], axis=1, inplace=True)"
      ],
      "metadata": {
        "id": "MuKDQx2CMmch"
      },
      "execution_count": null,
      "outputs": []
    },
    {
      "cell_type": "markdown",
      "source": [
        "#### Creating a cleanup function for future reads"
      ],
      "metadata": {
        "id": "pQ4LQ15gNys4"
      }
    },
    {
      "cell_type": "code",
      "source": [
        "def load_salesusa():\n",
        "  salesusa = pd.read_csv('/content/drive/MyDrive/python analyst/pandas /project/kc_house_data.csv')\n",
        "  salesusa['date'] = pd.to_datetime(salesusa['date'])\n",
        "  salesusa.drop(['bathrooms','sqft_living15','sqft_lot15'], axis=1, inplace=True)\n",
        "  return salesusa"
      ],
      "metadata": {
        "id": "ywNWfohBN1pg"
      },
      "execution_count": null,
      "outputs": []
    },
    {
      "cell_type": "code",
      "source": [
        ""
      ],
      "metadata": {
        "id": "gxiOocPKoERu"
      },
      "execution_count": null,
      "outputs": []
    },
    {
      "cell_type": "code",
      "source": [
        "salesusa = load_salesusa() "
      ],
      "metadata": {
        "id": "atsAvq-_P-OL"
      },
      "execution_count": null,
      "outputs": []
    },
    {
      "cell_type": "code",
      "source": [
        "salesusa.head()"
      ],
      "metadata": {
        "colab": {
          "base_uri": "https://localhost:8080/",
          "height": 357
        },
        "id": "iQRNx64gNsHV",
        "outputId": "26f9e16d-9602-4142-881c-22340a503c86"
      },
      "execution_count": null,
      "outputs": [
        {
          "output_type": "execute_result",
          "data": {
            "text/html": [
              "\n",
              "  <div id=\"df-a80266f0-1505-4823-a9a6-53983b7f8f87\">\n",
              "    <div class=\"colab-df-container\">\n",
              "      <div>\n",
              "<style scoped>\n",
              "    .dataframe tbody tr th:only-of-type {\n",
              "        vertical-align: middle;\n",
              "    }\n",
              "\n",
              "    .dataframe tbody tr th {\n",
              "        vertical-align: top;\n",
              "    }\n",
              "\n",
              "    .dataframe thead th {\n",
              "        text-align: right;\n",
              "    }\n",
              "</style>\n",
              "<table border=\"1\" class=\"dataframe\">\n",
              "  <thead>\n",
              "    <tr style=\"text-align: right;\">\n",
              "      <th></th>\n",
              "      <th>id</th>\n",
              "      <th>date</th>\n",
              "      <th>price</th>\n",
              "      <th>bedrooms</th>\n",
              "      <th>sqft_living</th>\n",
              "      <th>sqft_lot</th>\n",
              "      <th>floors</th>\n",
              "      <th>waterfront</th>\n",
              "      <th>view</th>\n",
              "      <th>condition</th>\n",
              "      <th>grade</th>\n",
              "      <th>sqft_above</th>\n",
              "      <th>sqft_basement</th>\n",
              "      <th>yr_built</th>\n",
              "      <th>yr_renovated</th>\n",
              "      <th>zipcode</th>\n",
              "      <th>lat</th>\n",
              "      <th>long</th>\n",
              "    </tr>\n",
              "  </thead>\n",
              "  <tbody>\n",
              "    <tr>\n",
              "      <th>0</th>\n",
              "      <td>7129300520</td>\n",
              "      <td>2014-10-13</td>\n",
              "      <td>221,900.00</td>\n",
              "      <td>3</td>\n",
              "      <td>1180</td>\n",
              "      <td>5650</td>\n",
              "      <td>1.00</td>\n",
              "      <td>0</td>\n",
              "      <td>0</td>\n",
              "      <td>3</td>\n",
              "      <td>7</td>\n",
              "      <td>1180</td>\n",
              "      <td>0</td>\n",
              "      <td>1955</td>\n",
              "      <td>0</td>\n",
              "      <td>98178</td>\n",
              "      <td>47.51</td>\n",
              "      <td>-122.26</td>\n",
              "    </tr>\n",
              "    <tr>\n",
              "      <th>1</th>\n",
              "      <td>6414100192</td>\n",
              "      <td>2014-12-09</td>\n",
              "      <td>538,000.00</td>\n",
              "      <td>3</td>\n",
              "      <td>2570</td>\n",
              "      <td>7242</td>\n",
              "      <td>2.00</td>\n",
              "      <td>0</td>\n",
              "      <td>0</td>\n",
              "      <td>3</td>\n",
              "      <td>7</td>\n",
              "      <td>2170</td>\n",
              "      <td>400</td>\n",
              "      <td>1951</td>\n",
              "      <td>1991</td>\n",
              "      <td>98125</td>\n",
              "      <td>47.72</td>\n",
              "      <td>-122.32</td>\n",
              "    </tr>\n",
              "    <tr>\n",
              "      <th>2</th>\n",
              "      <td>5631500400</td>\n",
              "      <td>2015-02-25</td>\n",
              "      <td>180,000.00</td>\n",
              "      <td>2</td>\n",
              "      <td>770</td>\n",
              "      <td>10000</td>\n",
              "      <td>1.00</td>\n",
              "      <td>0</td>\n",
              "      <td>0</td>\n",
              "      <td>3</td>\n",
              "      <td>6</td>\n",
              "      <td>770</td>\n",
              "      <td>0</td>\n",
              "      <td>1933</td>\n",
              "      <td>0</td>\n",
              "      <td>98028</td>\n",
              "      <td>47.74</td>\n",
              "      <td>-122.23</td>\n",
              "    </tr>\n",
              "    <tr>\n",
              "      <th>3</th>\n",
              "      <td>2487200875</td>\n",
              "      <td>2014-12-09</td>\n",
              "      <td>604,000.00</td>\n",
              "      <td>4</td>\n",
              "      <td>1960</td>\n",
              "      <td>5000</td>\n",
              "      <td>1.00</td>\n",
              "      <td>0</td>\n",
              "      <td>0</td>\n",
              "      <td>5</td>\n",
              "      <td>7</td>\n",
              "      <td>1050</td>\n",
              "      <td>910</td>\n",
              "      <td>1965</td>\n",
              "      <td>0</td>\n",
              "      <td>98136</td>\n",
              "      <td>47.52</td>\n",
              "      <td>-122.39</td>\n",
              "    </tr>\n",
              "    <tr>\n",
              "      <th>4</th>\n",
              "      <td>1954400510</td>\n",
              "      <td>2015-02-18</td>\n",
              "      <td>510,000.00</td>\n",
              "      <td>3</td>\n",
              "      <td>1680</td>\n",
              "      <td>8080</td>\n",
              "      <td>1.00</td>\n",
              "      <td>0</td>\n",
              "      <td>0</td>\n",
              "      <td>3</td>\n",
              "      <td>8</td>\n",
              "      <td>1680</td>\n",
              "      <td>0</td>\n",
              "      <td>1987</td>\n",
              "      <td>0</td>\n",
              "      <td>98074</td>\n",
              "      <td>47.62</td>\n",
              "      <td>-122.05</td>\n",
              "    </tr>\n",
              "  </tbody>\n",
              "</table>\n",
              "</div>\n",
              "      <button class=\"colab-df-convert\" onclick=\"convertToInteractive('df-a80266f0-1505-4823-a9a6-53983b7f8f87')\"\n",
              "              title=\"Convert this dataframe to an interactive table.\"\n",
              "              style=\"display:none;\">\n",
              "        \n",
              "  <svg xmlns=\"http://www.w3.org/2000/svg\" height=\"24px\"viewBox=\"0 0 24 24\"\n",
              "       width=\"24px\">\n",
              "    <path d=\"M0 0h24v24H0V0z\" fill=\"none\"/>\n",
              "    <path d=\"M18.56 5.44l.94 2.06.94-2.06 2.06-.94-2.06-.94-.94-2.06-.94 2.06-2.06.94zm-11 1L8.5 8.5l.94-2.06 2.06-.94-2.06-.94L8.5 2.5l-.94 2.06-2.06.94zm10 10l.94 2.06.94-2.06 2.06-.94-2.06-.94-.94-2.06-.94 2.06-2.06.94z\"/><path d=\"M17.41 7.96l-1.37-1.37c-.4-.4-.92-.59-1.43-.59-.52 0-1.04.2-1.43.59L10.3 9.45l-7.72 7.72c-.78.78-.78 2.05 0 2.83L4 21.41c.39.39.9.59 1.41.59.51 0 1.02-.2 1.41-.59l7.78-7.78 2.81-2.81c.8-.78.8-2.07 0-2.86zM5.41 20L4 18.59l7.72-7.72 1.47 1.35L5.41 20z\"/>\n",
              "  </svg>\n",
              "      </button>\n",
              "      \n",
              "  <style>\n",
              "    .colab-df-container {\n",
              "      display:flex;\n",
              "      flex-wrap:wrap;\n",
              "      gap: 12px;\n",
              "    }\n",
              "\n",
              "    .colab-df-convert {\n",
              "      background-color: #E8F0FE;\n",
              "      border: none;\n",
              "      border-radius: 50%;\n",
              "      cursor: pointer;\n",
              "      display: none;\n",
              "      fill: #1967D2;\n",
              "      height: 32px;\n",
              "      padding: 0 0 0 0;\n",
              "      width: 32px;\n",
              "    }\n",
              "\n",
              "    .colab-df-convert:hover {\n",
              "      background-color: #E2EBFA;\n",
              "      box-shadow: 0px 1px 2px rgba(60, 64, 67, 0.3), 0px 1px 3px 1px rgba(60, 64, 67, 0.15);\n",
              "      fill: #174EA6;\n",
              "    }\n",
              "\n",
              "    [theme=dark] .colab-df-convert {\n",
              "      background-color: #3B4455;\n",
              "      fill: #D2E3FC;\n",
              "    }\n",
              "\n",
              "    [theme=dark] .colab-df-convert:hover {\n",
              "      background-color: #434B5C;\n",
              "      box-shadow: 0px 1px 3px 1px rgba(0, 0, 0, 0.15);\n",
              "      filter: drop-shadow(0px 1px 2px rgba(0, 0, 0, 0.3));\n",
              "      fill: #FFFFFF;\n",
              "    }\n",
              "  </style>\n",
              "\n",
              "      <script>\n",
              "        const buttonEl =\n",
              "          document.querySelector('#df-a80266f0-1505-4823-a9a6-53983b7f8f87 button.colab-df-convert');\n",
              "        buttonEl.style.display =\n",
              "          google.colab.kernel.accessAllowed ? 'block' : 'none';\n",
              "\n",
              "        async function convertToInteractive(key) {\n",
              "          const element = document.querySelector('#df-a80266f0-1505-4823-a9a6-53983b7f8f87');\n",
              "          const dataTable =\n",
              "            await google.colab.kernel.invokeFunction('convertToInteractive',\n",
              "                                                     [key], {});\n",
              "          if (!dataTable) return;\n",
              "\n",
              "          const docLinkHtml = 'Like what you see? Visit the ' +\n",
              "            '<a target=\"_blank\" href=https://colab.research.google.com/notebooks/data_table.ipynb>data table notebook</a>'\n",
              "            + ' to learn more about interactive tables.';\n",
              "          element.innerHTML = '';\n",
              "          dataTable['output_type'] = 'display_data';\n",
              "          await google.colab.output.renderOutput(dataTable, element);\n",
              "          const docLink = document.createElement('div');\n",
              "          docLink.innerHTML = docLinkHtml;\n",
              "          element.appendChild(docLink);\n",
              "        }\n",
              "      </script>\n",
              "    </div>\n",
              "  </div>\n",
              "  "
            ],
            "text/plain": [
              "           id       date      price  bedrooms  sqft_living  sqft_lot  floors  \\\n",
              "0  7129300520 2014-10-13 221,900.00         3         1180      5650    1.00   \n",
              "1  6414100192 2014-12-09 538,000.00         3         2570      7242    2.00   \n",
              "2  5631500400 2015-02-25 180,000.00         2          770     10000    1.00   \n",
              "3  2487200875 2014-12-09 604,000.00         4         1960      5000    1.00   \n",
              "4  1954400510 2015-02-18 510,000.00         3         1680      8080    1.00   \n",
              "\n",
              "   waterfront  view  condition  grade  sqft_above  sqft_basement  yr_built  \\\n",
              "0           0     0          3      7        1180              0      1955   \n",
              "1           0     0          3      7        2170            400      1951   \n",
              "2           0     0          3      6         770              0      1933   \n",
              "3           0     0          5      7        1050            910      1965   \n",
              "4           0     0          3      8        1680              0      1987   \n",
              "\n",
              "   yr_renovated  zipcode   lat    long  \n",
              "0             0    98178 47.51 -122.26  \n",
              "1          1991    98125 47.72 -122.32  \n",
              "2             0    98028 47.74 -122.23  \n",
              "3             0    98136 47.52 -122.39  \n",
              "4             0    98074 47.62 -122.05  "
            ]
          },
          "metadata": {},
          "execution_count": 17
        }
      ]
    },
    {
      "cell_type": "markdown",
      "source": [
        "## EDA"
      ],
      "metadata": {
        "id": "dEAaUlxEOcdz"
      }
    },
    {
      "cell_type": "markdown",
      "source": [
        "### Categorical, Quantitative"
      ],
      "metadata": {
        "id": "dN3annVhOlbF"
      }
    },
    {
      "cell_type": "code",
      "source": [
        "salesusa.columns"
      ],
      "metadata": {
        "colab": {
          "base_uri": "https://localhost:8080/"
        },
        "id": "HlrN1pQ1OdP_",
        "outputId": "c3d7fb77-9535-4f1f-93ce-c6652c01c6ec"
      },
      "execution_count": null,
      "outputs": [
        {
          "output_type": "execute_result",
          "data": {
            "text/plain": [
              "Index(['id', 'date', 'price', 'bedrooms', 'sqft_living', 'sqft_lot', 'floors',\n",
              "       'waterfront', 'view', 'condition', 'grade', 'sqft_above',\n",
              "       'sqft_basement', 'yr_built', 'yr_renovated', 'zipcode', 'lat', 'long'],\n",
              "      dtype='object')"
            ]
          },
          "metadata": {},
          "execution_count": 18
        }
      ]
    },
    {
      "cell_type": "code",
      "source": [
        "categorical = ['waterfront', 'view', 'condition', 'grade', 'yr_built', 'yr_renovated']\n",
        "numerical   = ['price', 'bedrooms', 'floors','sqft_living', 'sqft_lot', 'sqft_above', 'sqft_basement']"
      ],
      "metadata": {
        "id": "P6yaEy-HO1hU"
      },
      "execution_count": null,
      "outputs": []
    },
    {
      "cell_type": "markdown",
      "source": [
        "### Univariate Analysis"
      ],
      "metadata": {
        "id": "T29eIN2WSuYo"
      }
    },
    {
      "cell_type": "markdown",
      "source": [
        "#### Summary Statistics"
      ],
      "metadata": {
        "id": "7JjluoS_SxDF"
      }
    },
    {
      "cell_type": "code",
      "source": [
        "df=salesusa.describe()\n",
        "df.drop(['id','view', 'condition', 'grade', 'yr_built', 'waterfront', 'yr_renovated', 'zipcode' ,'lat' ,'long'], axis=1, inplace=True)"
      ],
      "metadata": {
        "id": "X7NM18jiSq4B"
      },
      "execution_count": null,
      "outputs": []
    },
    {
      "cell_type": "markdown",
      "source": [
        "we are drop this columns from the describe, because they are not columns that can be statistically calculated "
      ],
      "metadata": {
        "id": "Oq8zDp5IVPw5"
      }
    },
    {
      "cell_type": "code",
      "source": [
        "df.transpose()"
      ],
      "metadata": {
        "colab": {
          "base_uri": "https://localhost:8080/",
          "height": 269
        },
        "id": "Y2kiccR1VGSN",
        "outputId": "ad1da4b6-4772-4fbb-da65-7fa7c71799c7"
      },
      "execution_count": null,
      "outputs": [
        {
          "output_type": "execute_result",
          "data": {
            "text/html": [
              "\n",
              "  <div id=\"df-8730a163-cfc5-4140-8516-7bd382d03d4b\">\n",
              "    <div class=\"colab-df-container\">\n",
              "      <div>\n",
              "<style scoped>\n",
              "    .dataframe tbody tr th:only-of-type {\n",
              "        vertical-align: middle;\n",
              "    }\n",
              "\n",
              "    .dataframe tbody tr th {\n",
              "        vertical-align: top;\n",
              "    }\n",
              "\n",
              "    .dataframe thead th {\n",
              "        text-align: right;\n",
              "    }\n",
              "</style>\n",
              "<table border=\"1\" class=\"dataframe\">\n",
              "  <thead>\n",
              "    <tr style=\"text-align: right;\">\n",
              "      <th></th>\n",
              "      <th>count</th>\n",
              "      <th>mean</th>\n",
              "      <th>std</th>\n",
              "      <th>min</th>\n",
              "      <th>25%</th>\n",
              "      <th>50%</th>\n",
              "      <th>75%</th>\n",
              "      <th>max</th>\n",
              "    </tr>\n",
              "  </thead>\n",
              "  <tbody>\n",
              "    <tr>\n",
              "      <th>price</th>\n",
              "      <td>21,613.00</td>\n",
              "      <td>540,182.16</td>\n",
              "      <td>367,362.23</td>\n",
              "      <td>75,000.00</td>\n",
              "      <td>321,950.00</td>\n",
              "      <td>450,000.00</td>\n",
              "      <td>645,000.00</td>\n",
              "      <td>7,700,000.00</td>\n",
              "    </tr>\n",
              "    <tr>\n",
              "      <th>bedrooms</th>\n",
              "      <td>21,613.00</td>\n",
              "      <td>3.37</td>\n",
              "      <td>0.93</td>\n",
              "      <td>0.00</td>\n",
              "      <td>3.00</td>\n",
              "      <td>3.00</td>\n",
              "      <td>4.00</td>\n",
              "      <td>33.00</td>\n",
              "    </tr>\n",
              "    <tr>\n",
              "      <th>sqft_living</th>\n",
              "      <td>21,613.00</td>\n",
              "      <td>2,079.90</td>\n",
              "      <td>918.44</td>\n",
              "      <td>290.00</td>\n",
              "      <td>1,427.00</td>\n",
              "      <td>1,910.00</td>\n",
              "      <td>2,550.00</td>\n",
              "      <td>13,540.00</td>\n",
              "    </tr>\n",
              "    <tr>\n",
              "      <th>sqft_lot</th>\n",
              "      <td>21,613.00</td>\n",
              "      <td>15,106.97</td>\n",
              "      <td>41,420.51</td>\n",
              "      <td>520.00</td>\n",
              "      <td>5,040.00</td>\n",
              "      <td>7,618.00</td>\n",
              "      <td>10,688.00</td>\n",
              "      <td>1,651,359.00</td>\n",
              "    </tr>\n",
              "    <tr>\n",
              "      <th>floors</th>\n",
              "      <td>21,613.00</td>\n",
              "      <td>1.49</td>\n",
              "      <td>0.54</td>\n",
              "      <td>1.00</td>\n",
              "      <td>1.00</td>\n",
              "      <td>1.50</td>\n",
              "      <td>2.00</td>\n",
              "      <td>3.50</td>\n",
              "    </tr>\n",
              "    <tr>\n",
              "      <th>sqft_above</th>\n",
              "      <td>21,613.00</td>\n",
              "      <td>1,788.39</td>\n",
              "      <td>828.09</td>\n",
              "      <td>290.00</td>\n",
              "      <td>1,190.00</td>\n",
              "      <td>1,560.00</td>\n",
              "      <td>2,210.00</td>\n",
              "      <td>9,410.00</td>\n",
              "    </tr>\n",
              "    <tr>\n",
              "      <th>sqft_basement</th>\n",
              "      <td>21,613.00</td>\n",
              "      <td>291.51</td>\n",
              "      <td>442.58</td>\n",
              "      <td>0.00</td>\n",
              "      <td>0.00</td>\n",
              "      <td>0.00</td>\n",
              "      <td>560.00</td>\n",
              "      <td>4,820.00</td>\n",
              "    </tr>\n",
              "  </tbody>\n",
              "</table>\n",
              "</div>\n",
              "      <button class=\"colab-df-convert\" onclick=\"convertToInteractive('df-8730a163-cfc5-4140-8516-7bd382d03d4b')\"\n",
              "              title=\"Convert this dataframe to an interactive table.\"\n",
              "              style=\"display:none;\">\n",
              "        \n",
              "  <svg xmlns=\"http://www.w3.org/2000/svg\" height=\"24px\"viewBox=\"0 0 24 24\"\n",
              "       width=\"24px\">\n",
              "    <path d=\"M0 0h24v24H0V0z\" fill=\"none\"/>\n",
              "    <path d=\"M18.56 5.44l.94 2.06.94-2.06 2.06-.94-2.06-.94-.94-2.06-.94 2.06-2.06.94zm-11 1L8.5 8.5l.94-2.06 2.06-.94-2.06-.94L8.5 2.5l-.94 2.06-2.06.94zm10 10l.94 2.06.94-2.06 2.06-.94-2.06-.94-.94-2.06-.94 2.06-2.06.94z\"/><path d=\"M17.41 7.96l-1.37-1.37c-.4-.4-.92-.59-1.43-.59-.52 0-1.04.2-1.43.59L10.3 9.45l-7.72 7.72c-.78.78-.78 2.05 0 2.83L4 21.41c.39.39.9.59 1.41.59.51 0 1.02-.2 1.41-.59l7.78-7.78 2.81-2.81c.8-.78.8-2.07 0-2.86zM5.41 20L4 18.59l7.72-7.72 1.47 1.35L5.41 20z\"/>\n",
              "  </svg>\n",
              "      </button>\n",
              "      \n",
              "  <style>\n",
              "    .colab-df-container {\n",
              "      display:flex;\n",
              "      flex-wrap:wrap;\n",
              "      gap: 12px;\n",
              "    }\n",
              "\n",
              "    .colab-df-convert {\n",
              "      background-color: #E8F0FE;\n",
              "      border: none;\n",
              "      border-radius: 50%;\n",
              "      cursor: pointer;\n",
              "      display: none;\n",
              "      fill: #1967D2;\n",
              "      height: 32px;\n",
              "      padding: 0 0 0 0;\n",
              "      width: 32px;\n",
              "    }\n",
              "\n",
              "    .colab-df-convert:hover {\n",
              "      background-color: #E2EBFA;\n",
              "      box-shadow: 0px 1px 2px rgba(60, 64, 67, 0.3), 0px 1px 3px 1px rgba(60, 64, 67, 0.15);\n",
              "      fill: #174EA6;\n",
              "    }\n",
              "\n",
              "    [theme=dark] .colab-df-convert {\n",
              "      background-color: #3B4455;\n",
              "      fill: #D2E3FC;\n",
              "    }\n",
              "\n",
              "    [theme=dark] .colab-df-convert:hover {\n",
              "      background-color: #434B5C;\n",
              "      box-shadow: 0px 1px 3px 1px rgba(0, 0, 0, 0.15);\n",
              "      filter: drop-shadow(0px 1px 2px rgba(0, 0, 0, 0.3));\n",
              "      fill: #FFFFFF;\n",
              "    }\n",
              "  </style>\n",
              "\n",
              "      <script>\n",
              "        const buttonEl =\n",
              "          document.querySelector('#df-8730a163-cfc5-4140-8516-7bd382d03d4b button.colab-df-convert');\n",
              "        buttonEl.style.display =\n",
              "          google.colab.kernel.accessAllowed ? 'block' : 'none';\n",
              "\n",
              "        async function convertToInteractive(key) {\n",
              "          const element = document.querySelector('#df-8730a163-cfc5-4140-8516-7bd382d03d4b');\n",
              "          const dataTable =\n",
              "            await google.colab.kernel.invokeFunction('convertToInteractive',\n",
              "                                                     [key], {});\n",
              "          if (!dataTable) return;\n",
              "\n",
              "          const docLinkHtml = 'Like what you see? Visit the ' +\n",
              "            '<a target=\"_blank\" href=https://colab.research.google.com/notebooks/data_table.ipynb>data table notebook</a>'\n",
              "            + ' to learn more about interactive tables.';\n",
              "          element.innerHTML = '';\n",
              "          dataTable['output_type'] = 'display_data';\n",
              "          await google.colab.output.renderOutput(dataTable, element);\n",
              "          const docLink = document.createElement('div');\n",
              "          docLink.innerHTML = docLinkHtml;\n",
              "          element.appendChild(docLink);\n",
              "        }\n",
              "      </script>\n",
              "    </div>\n",
              "  </div>\n",
              "  "
            ],
            "text/plain": [
              "                  count       mean        std       min        25%        50%  \\\n",
              "price         21,613.00 540,182.16 367,362.23 75,000.00 321,950.00 450,000.00   \n",
              "bedrooms      21,613.00       3.37       0.93      0.00       3.00       3.00   \n",
              "sqft_living   21,613.00   2,079.90     918.44    290.00   1,427.00   1,910.00   \n",
              "sqft_lot      21,613.00  15,106.97  41,420.51    520.00   5,040.00   7,618.00   \n",
              "floors        21,613.00       1.49       0.54      1.00       1.00       1.50   \n",
              "sqft_above    21,613.00   1,788.39     828.09    290.00   1,190.00   1,560.00   \n",
              "sqft_basement 21,613.00     291.51     442.58      0.00       0.00       0.00   \n",
              "\n",
              "                     75%          max  \n",
              "price         645,000.00 7,700,000.00  \n",
              "bedrooms            4.00        33.00  \n",
              "sqft_living     2,550.00    13,540.00  \n",
              "sqft_lot       10,688.00 1,651,359.00  \n",
              "floors              2.00         3.50  \n",
              "sqft_above      2,210.00     9,410.00  \n",
              "sqft_basement     560.00     4,820.00  "
            ]
          },
          "metadata": {},
          "execution_count": 21
        }
      ]
    },
    {
      "cell_type": "markdown",
      "source": [
        "#### Summary Statistics Observations"
      ],
      "metadata": {
        "id": "x3j8yXTfzz5C"
      }
    },
    {
      "cell_type": "markdown",
      "source": [
        "<div style='background:coral;font-size:15px'> \n",
        "\n",
        "<b> Initial Observations: </b>\n",
        "* <b> price </b>\n",
        "    * Apartment prices range in 75K to 7700K, , most of the prices (75%) are up to 645K.\n",
        "* <b> sqft_living / sqft_lot </b>\n",
        "    * Apartment sqft_living range in 290 to 13540, , most of the sqft_living (75%) are up to 2500.\n",
        "    * This average is 2079 sqft_living.\n",
        "* <b> Bedrooms </b>\n",
        "    * Bedrooms range in 0 to 33, , most of the bedrooms (75%) are up to 4. <br>\n",
        "    \n",
        "</div>"
      ],
      "metadata": {
        "id": "QXORigudz9Jy"
      }
    },
    {
      "cell_type": "markdown",
      "source": [
        "<b> House with high sqft_living </b>"
      ],
      "metadata": {
        "id": "PE0XSzMDzpLe"
      }
    },
    {
      "cell_type": "code",
      "source": [
        "sqft_living_filter = salesusa['sqft_living']>10000\n",
        "salesusa[sqft_living_filter]"
      ],
      "metadata": {
        "colab": {
          "base_uri": "https://localhost:8080/",
          "height": 259
        },
        "id": "wMgZeMkSzbdg",
        "outputId": "f39577ce-d361-4b4c-fd18-47aa171b438d"
      },
      "execution_count": null,
      "outputs": [
        {
          "output_type": "execute_result",
          "data": {
            "text/html": [
              "\n",
              "  <div id=\"df-0137334c-0363-41df-b9cd-d1212ca7e40b\">\n",
              "    <div class=\"colab-df-container\">\n",
              "      <div>\n",
              "<style scoped>\n",
              "    .dataframe tbody tr th:only-of-type {\n",
              "        vertical-align: middle;\n",
              "    }\n",
              "\n",
              "    .dataframe tbody tr th {\n",
              "        vertical-align: top;\n",
              "    }\n",
              "\n",
              "    .dataframe thead th {\n",
              "        text-align: right;\n",
              "    }\n",
              "</style>\n",
              "<table border=\"1\" class=\"dataframe\">\n",
              "  <thead>\n",
              "    <tr style=\"text-align: right;\">\n",
              "      <th></th>\n",
              "      <th>id</th>\n",
              "      <th>date</th>\n",
              "      <th>price</th>\n",
              "      <th>bedrooms</th>\n",
              "      <th>sqft_living</th>\n",
              "      <th>sqft_lot</th>\n",
              "      <th>floors</th>\n",
              "      <th>waterfront</th>\n",
              "      <th>view</th>\n",
              "      <th>condition</th>\n",
              "      <th>grade</th>\n",
              "      <th>sqft_above</th>\n",
              "      <th>sqft_basement</th>\n",
              "      <th>yr_built</th>\n",
              "      <th>yr_renovated</th>\n",
              "      <th>zipcode</th>\n",
              "      <th>lat</th>\n",
              "      <th>long</th>\n",
              "    </tr>\n",
              "  </thead>\n",
              "  <tbody>\n",
              "    <tr>\n",
              "      <th>3914</th>\n",
              "      <td>9808700762</td>\n",
              "      <td>2014-06-11</td>\n",
              "      <td>7,060,000.00</td>\n",
              "      <td>5</td>\n",
              "      <td>10040</td>\n",
              "      <td>37325</td>\n",
              "      <td>2.00</td>\n",
              "      <td>1</td>\n",
              "      <td>2</td>\n",
              "      <td>3</td>\n",
              "      <td>11</td>\n",
              "      <td>7680</td>\n",
              "      <td>2360</td>\n",
              "      <td>1940</td>\n",
              "      <td>2001</td>\n",
              "      <td>98004</td>\n",
              "      <td>47.65</td>\n",
              "      <td>-122.21</td>\n",
              "    </tr>\n",
              "    <tr>\n",
              "      <th>7252</th>\n",
              "      <td>6762700020</td>\n",
              "      <td>2014-10-13</td>\n",
              "      <td>7,700,000.00</td>\n",
              "      <td>6</td>\n",
              "      <td>12050</td>\n",
              "      <td>27600</td>\n",
              "      <td>2.50</td>\n",
              "      <td>0</td>\n",
              "      <td>3</td>\n",
              "      <td>4</td>\n",
              "      <td>13</td>\n",
              "      <td>8570</td>\n",
              "      <td>3480</td>\n",
              "      <td>1910</td>\n",
              "      <td>1987</td>\n",
              "      <td>98102</td>\n",
              "      <td>47.63</td>\n",
              "      <td>-122.32</td>\n",
              "    </tr>\n",
              "    <tr>\n",
              "      <th>12777</th>\n",
              "      <td>1225069038</td>\n",
              "      <td>2014-05-05</td>\n",
              "      <td>2,280,000.00</td>\n",
              "      <td>7</td>\n",
              "      <td>13540</td>\n",
              "      <td>307752</td>\n",
              "      <td>3.00</td>\n",
              "      <td>0</td>\n",
              "      <td>4</td>\n",
              "      <td>3</td>\n",
              "      <td>12</td>\n",
              "      <td>9410</td>\n",
              "      <td>4130</td>\n",
              "      <td>1999</td>\n",
              "      <td>0</td>\n",
              "      <td>98053</td>\n",
              "      <td>47.67</td>\n",
              "      <td>-121.99</td>\n",
              "    </tr>\n",
              "  </tbody>\n",
              "</table>\n",
              "</div>\n",
              "      <button class=\"colab-df-convert\" onclick=\"convertToInteractive('df-0137334c-0363-41df-b9cd-d1212ca7e40b')\"\n",
              "              title=\"Convert this dataframe to an interactive table.\"\n",
              "              style=\"display:none;\">\n",
              "        \n",
              "  <svg xmlns=\"http://www.w3.org/2000/svg\" height=\"24px\"viewBox=\"0 0 24 24\"\n",
              "       width=\"24px\">\n",
              "    <path d=\"M0 0h24v24H0V0z\" fill=\"none\"/>\n",
              "    <path d=\"M18.56 5.44l.94 2.06.94-2.06 2.06-.94-2.06-.94-.94-2.06-.94 2.06-2.06.94zm-11 1L8.5 8.5l.94-2.06 2.06-.94-2.06-.94L8.5 2.5l-.94 2.06-2.06.94zm10 10l.94 2.06.94-2.06 2.06-.94-2.06-.94-.94-2.06-.94 2.06-2.06.94z\"/><path d=\"M17.41 7.96l-1.37-1.37c-.4-.4-.92-.59-1.43-.59-.52 0-1.04.2-1.43.59L10.3 9.45l-7.72 7.72c-.78.78-.78 2.05 0 2.83L4 21.41c.39.39.9.59 1.41.59.51 0 1.02-.2 1.41-.59l7.78-7.78 2.81-2.81c.8-.78.8-2.07 0-2.86zM5.41 20L4 18.59l7.72-7.72 1.47 1.35L5.41 20z\"/>\n",
              "  </svg>\n",
              "      </button>\n",
              "      \n",
              "  <style>\n",
              "    .colab-df-container {\n",
              "      display:flex;\n",
              "      flex-wrap:wrap;\n",
              "      gap: 12px;\n",
              "    }\n",
              "\n",
              "    .colab-df-convert {\n",
              "      background-color: #E8F0FE;\n",
              "      border: none;\n",
              "      border-radius: 50%;\n",
              "      cursor: pointer;\n",
              "      display: none;\n",
              "      fill: #1967D2;\n",
              "      height: 32px;\n",
              "      padding: 0 0 0 0;\n",
              "      width: 32px;\n",
              "    }\n",
              "\n",
              "    .colab-df-convert:hover {\n",
              "      background-color: #E2EBFA;\n",
              "      box-shadow: 0px 1px 2px rgba(60, 64, 67, 0.3), 0px 1px 3px 1px rgba(60, 64, 67, 0.15);\n",
              "      fill: #174EA6;\n",
              "    }\n",
              "\n",
              "    [theme=dark] .colab-df-convert {\n",
              "      background-color: #3B4455;\n",
              "      fill: #D2E3FC;\n",
              "    }\n",
              "\n",
              "    [theme=dark] .colab-df-convert:hover {\n",
              "      background-color: #434B5C;\n",
              "      box-shadow: 0px 1px 3px 1px rgba(0, 0, 0, 0.15);\n",
              "      filter: drop-shadow(0px 1px 2px rgba(0, 0, 0, 0.3));\n",
              "      fill: #FFFFFF;\n",
              "    }\n",
              "  </style>\n",
              "\n",
              "      <script>\n",
              "        const buttonEl =\n",
              "          document.querySelector('#df-0137334c-0363-41df-b9cd-d1212ca7e40b button.colab-df-convert');\n",
              "        buttonEl.style.display =\n",
              "          google.colab.kernel.accessAllowed ? 'block' : 'none';\n",
              "\n",
              "        async function convertToInteractive(key) {\n",
              "          const element = document.querySelector('#df-0137334c-0363-41df-b9cd-d1212ca7e40b');\n",
              "          const dataTable =\n",
              "            await google.colab.kernel.invokeFunction('convertToInteractive',\n",
              "                                                     [key], {});\n",
              "          if (!dataTable) return;\n",
              "\n",
              "          const docLinkHtml = 'Like what you see? Visit the ' +\n",
              "            '<a target=\"_blank\" href=https://colab.research.google.com/notebooks/data_table.ipynb>data table notebook</a>'\n",
              "            + ' to learn more about interactive tables.';\n",
              "          element.innerHTML = '';\n",
              "          dataTable['output_type'] = 'display_data';\n",
              "          await google.colab.output.renderOutput(dataTable, element);\n",
              "          const docLink = document.createElement('div');\n",
              "          docLink.innerHTML = docLinkHtml;\n",
              "          element.appendChild(docLink);\n",
              "        }\n",
              "      </script>\n",
              "    </div>\n",
              "  </div>\n",
              "  "
            ],
            "text/plain": [
              "               id       date        price  bedrooms  sqft_living  sqft_lot  \\\n",
              "3914   9808700762 2014-06-11 7,060,000.00         5        10040     37325   \n",
              "7252   6762700020 2014-10-13 7,700,000.00         6        12050     27600   \n",
              "12777  1225069038 2014-05-05 2,280,000.00         7        13540    307752   \n",
              "\n",
              "       floors  waterfront  view  condition  grade  sqft_above  sqft_basement  \\\n",
              "3914     2.00           1     2          3     11        7680           2360   \n",
              "7252     2.50           0     3          4     13        8570           3480   \n",
              "12777    3.00           0     4          3     12        9410           4130   \n",
              "\n",
              "       yr_built  yr_renovated  zipcode   lat    long  \n",
              "3914       1940          2001    98004 47.65 -122.21  \n",
              "7252       1910          1987    98102 47.63 -122.32  \n",
              "12777      1999             0    98053 47.67 -121.99  "
            ]
          },
          "metadata": {},
          "execution_count": 22
        }
      ]
    },
    {
      "cell_type": "markdown",
      "source": [
        "<b> House with high bedrooms </b>"
      ],
      "metadata": {
        "id": "MnWWMIsQuyhf"
      }
    },
    {
      "cell_type": "markdown",
      "source": [
        "It can be seen that the houses with the high toilets price is accordingly and the sqft_living"
      ],
      "metadata": {
        "id": "iFNUzXdoynGw"
      }
    },
    {
      "cell_type": "code",
      "source": [
        "bedrooms_filter = salesusa['bedrooms']>10\n",
        "salesusa[bedrooms_filter]"
      ],
      "metadata": {
        "colab": {
          "base_uri": "https://localhost:8080/",
          "height": 210
        },
        "id": "5_3XeKlduISV",
        "outputId": "abf76d0a-473b-45dd-cde3-057df401e47e"
      },
      "execution_count": null,
      "outputs": [
        {
          "output_type": "execute_result",
          "data": {
            "text/html": [
              "\n",
              "  <div id=\"df-6f1f3e27-256e-40a6-b3ab-54247834aa3b\">\n",
              "    <div class=\"colab-df-container\">\n",
              "      <div>\n",
              "<style scoped>\n",
              "    .dataframe tbody tr th:only-of-type {\n",
              "        vertical-align: middle;\n",
              "    }\n",
              "\n",
              "    .dataframe tbody tr th {\n",
              "        vertical-align: top;\n",
              "    }\n",
              "\n",
              "    .dataframe thead th {\n",
              "        text-align: right;\n",
              "    }\n",
              "</style>\n",
              "<table border=\"1\" class=\"dataframe\">\n",
              "  <thead>\n",
              "    <tr style=\"text-align: right;\">\n",
              "      <th></th>\n",
              "      <th>id</th>\n",
              "      <th>date</th>\n",
              "      <th>price</th>\n",
              "      <th>bedrooms</th>\n",
              "      <th>sqft_living</th>\n",
              "      <th>sqft_lot</th>\n",
              "      <th>floors</th>\n",
              "      <th>waterfront</th>\n",
              "      <th>view</th>\n",
              "      <th>condition</th>\n",
              "      <th>grade</th>\n",
              "      <th>sqft_above</th>\n",
              "      <th>sqft_basement</th>\n",
              "      <th>yr_built</th>\n",
              "      <th>yr_renovated</th>\n",
              "      <th>zipcode</th>\n",
              "      <th>lat</th>\n",
              "      <th>long</th>\n",
              "    </tr>\n",
              "  </thead>\n",
              "  <tbody>\n",
              "    <tr>\n",
              "      <th>8757</th>\n",
              "      <td>1773100755</td>\n",
              "      <td>2014-08-21</td>\n",
              "      <td>520,000.00</td>\n",
              "      <td>11</td>\n",
              "      <td>3000</td>\n",
              "      <td>4960</td>\n",
              "      <td>2.00</td>\n",
              "      <td>0</td>\n",
              "      <td>0</td>\n",
              "      <td>3</td>\n",
              "      <td>7</td>\n",
              "      <td>2400</td>\n",
              "      <td>600</td>\n",
              "      <td>1918</td>\n",
              "      <td>1999</td>\n",
              "      <td>98106</td>\n",
              "      <td>47.56</td>\n",
              "      <td>-122.36</td>\n",
              "    </tr>\n",
              "    <tr>\n",
              "      <th>15870</th>\n",
              "      <td>2402100895</td>\n",
              "      <td>2014-06-25</td>\n",
              "      <td>640,000.00</td>\n",
              "      <td>33</td>\n",
              "      <td>1620</td>\n",
              "      <td>6000</td>\n",
              "      <td>1.00</td>\n",
              "      <td>0</td>\n",
              "      <td>0</td>\n",
              "      <td>5</td>\n",
              "      <td>7</td>\n",
              "      <td>1040</td>\n",
              "      <td>580</td>\n",
              "      <td>1947</td>\n",
              "      <td>0</td>\n",
              "      <td>98103</td>\n",
              "      <td>47.69</td>\n",
              "      <td>-122.33</td>\n",
              "    </tr>\n",
              "  </tbody>\n",
              "</table>\n",
              "</div>\n",
              "      <button class=\"colab-df-convert\" onclick=\"convertToInteractive('df-6f1f3e27-256e-40a6-b3ab-54247834aa3b')\"\n",
              "              title=\"Convert this dataframe to an interactive table.\"\n",
              "              style=\"display:none;\">\n",
              "        \n",
              "  <svg xmlns=\"http://www.w3.org/2000/svg\" height=\"24px\"viewBox=\"0 0 24 24\"\n",
              "       width=\"24px\">\n",
              "    <path d=\"M0 0h24v24H0V0z\" fill=\"none\"/>\n",
              "    <path d=\"M18.56 5.44l.94 2.06.94-2.06 2.06-.94-2.06-.94-.94-2.06-.94 2.06-2.06.94zm-11 1L8.5 8.5l.94-2.06 2.06-.94-2.06-.94L8.5 2.5l-.94 2.06-2.06.94zm10 10l.94 2.06.94-2.06 2.06-.94-2.06-.94-.94-2.06-.94 2.06-2.06.94z\"/><path d=\"M17.41 7.96l-1.37-1.37c-.4-.4-.92-.59-1.43-.59-.52 0-1.04.2-1.43.59L10.3 9.45l-7.72 7.72c-.78.78-.78 2.05 0 2.83L4 21.41c.39.39.9.59 1.41.59.51 0 1.02-.2 1.41-.59l7.78-7.78 2.81-2.81c.8-.78.8-2.07 0-2.86zM5.41 20L4 18.59l7.72-7.72 1.47 1.35L5.41 20z\"/>\n",
              "  </svg>\n",
              "      </button>\n",
              "      \n",
              "  <style>\n",
              "    .colab-df-container {\n",
              "      display:flex;\n",
              "      flex-wrap:wrap;\n",
              "      gap: 12px;\n",
              "    }\n",
              "\n",
              "    .colab-df-convert {\n",
              "      background-color: #E8F0FE;\n",
              "      border: none;\n",
              "      border-radius: 50%;\n",
              "      cursor: pointer;\n",
              "      display: none;\n",
              "      fill: #1967D2;\n",
              "      height: 32px;\n",
              "      padding: 0 0 0 0;\n",
              "      width: 32px;\n",
              "    }\n",
              "\n",
              "    .colab-df-convert:hover {\n",
              "      background-color: #E2EBFA;\n",
              "      box-shadow: 0px 1px 2px rgba(60, 64, 67, 0.3), 0px 1px 3px 1px rgba(60, 64, 67, 0.15);\n",
              "      fill: #174EA6;\n",
              "    }\n",
              "\n",
              "    [theme=dark] .colab-df-convert {\n",
              "      background-color: #3B4455;\n",
              "      fill: #D2E3FC;\n",
              "    }\n",
              "\n",
              "    [theme=dark] .colab-df-convert:hover {\n",
              "      background-color: #434B5C;\n",
              "      box-shadow: 0px 1px 3px 1px rgba(0, 0, 0, 0.15);\n",
              "      filter: drop-shadow(0px 1px 2px rgba(0, 0, 0, 0.3));\n",
              "      fill: #FFFFFF;\n",
              "    }\n",
              "  </style>\n",
              "\n",
              "      <script>\n",
              "        const buttonEl =\n",
              "          document.querySelector('#df-6f1f3e27-256e-40a6-b3ab-54247834aa3b button.colab-df-convert');\n",
              "        buttonEl.style.display =\n",
              "          google.colab.kernel.accessAllowed ? 'block' : 'none';\n",
              "\n",
              "        async function convertToInteractive(key) {\n",
              "          const element = document.querySelector('#df-6f1f3e27-256e-40a6-b3ab-54247834aa3b');\n",
              "          const dataTable =\n",
              "            await google.colab.kernel.invokeFunction('convertToInteractive',\n",
              "                                                     [key], {});\n",
              "          if (!dataTable) return;\n",
              "\n",
              "          const docLinkHtml = 'Like what you see? Visit the ' +\n",
              "            '<a target=\"_blank\" href=https://colab.research.google.com/notebooks/data_table.ipynb>data table notebook</a>'\n",
              "            + ' to learn more about interactive tables.';\n",
              "          element.innerHTML = '';\n",
              "          dataTable['output_type'] = 'display_data';\n",
              "          await google.colab.output.renderOutput(dataTable, element);\n",
              "          const docLink = document.createElement('div');\n",
              "          docLink.innerHTML = docLinkHtml;\n",
              "          element.appendChild(docLink);\n",
              "        }\n",
              "      </script>\n",
              "    </div>\n",
              "  </div>\n",
              "  "
            ],
            "text/plain": [
              "               id       date      price  bedrooms  sqft_living  sqft_lot  \\\n",
              "8757   1773100755 2014-08-21 520,000.00        11         3000      4960   \n",
              "15870  2402100895 2014-06-25 640,000.00        33         1620      6000   \n",
              "\n",
              "       floors  waterfront  view  condition  grade  sqft_above  sqft_basement  \\\n",
              "8757     2.00           0     0          3      7        2400            600   \n",
              "15870    1.00           0     0          5      7        1040            580   \n",
              "\n",
              "       yr_built  yr_renovated  zipcode   lat    long  \n",
              "8757       1918          1999    98106 47.56 -122.36  \n",
              "15870      1947             0    98103 47.69 -122.33  "
            ]
          },
          "metadata": {},
          "execution_count": 23
        }
      ]
    },
    {
      "cell_type": "markdown",
      "source": [
        "<b> House with high price </b>"
      ],
      "metadata": {
        "id": "q_TSLpOktk_s"
      }
    },
    {
      "cell_type": "markdown",
      "source": [
        "We can see thet houses is a very big house with 5 bedrooms and waterfront "
      ],
      "metadata": {
        "id": "zBwmPUO6ttZn"
      }
    },
    {
      "cell_type": "code",
      "source": [
        "price_filter = salesusa['price']>7000000\n",
        "salesusa[price_filter]"
      ],
      "metadata": {
        "colab": {
          "base_uri": "https://localhost:8080/",
          "height": 210
        },
        "id": "04McRIQqsw0h",
        "outputId": "36041ea2-a9ec-48d9-94be-8aaa20c90b50"
      },
      "execution_count": null,
      "outputs": [
        {
          "output_type": "execute_result",
          "data": {
            "text/html": [
              "\n",
              "  <div id=\"df-41013d66-663b-4779-b786-6ffda0fb40ba\">\n",
              "    <div class=\"colab-df-container\">\n",
              "      <div>\n",
              "<style scoped>\n",
              "    .dataframe tbody tr th:only-of-type {\n",
              "        vertical-align: middle;\n",
              "    }\n",
              "\n",
              "    .dataframe tbody tr th {\n",
              "        vertical-align: top;\n",
              "    }\n",
              "\n",
              "    .dataframe thead th {\n",
              "        text-align: right;\n",
              "    }\n",
              "</style>\n",
              "<table border=\"1\" class=\"dataframe\">\n",
              "  <thead>\n",
              "    <tr style=\"text-align: right;\">\n",
              "      <th></th>\n",
              "      <th>id</th>\n",
              "      <th>date</th>\n",
              "      <th>price</th>\n",
              "      <th>bedrooms</th>\n",
              "      <th>sqft_living</th>\n",
              "      <th>sqft_lot</th>\n",
              "      <th>floors</th>\n",
              "      <th>waterfront</th>\n",
              "      <th>view</th>\n",
              "      <th>condition</th>\n",
              "      <th>grade</th>\n",
              "      <th>sqft_above</th>\n",
              "      <th>sqft_basement</th>\n",
              "      <th>yr_built</th>\n",
              "      <th>yr_renovated</th>\n",
              "      <th>zipcode</th>\n",
              "      <th>lat</th>\n",
              "      <th>long</th>\n",
              "    </tr>\n",
              "  </thead>\n",
              "  <tbody>\n",
              "    <tr>\n",
              "      <th>3914</th>\n",
              "      <td>9808700762</td>\n",
              "      <td>2014-06-11</td>\n",
              "      <td>7,060,000.00</td>\n",
              "      <td>5</td>\n",
              "      <td>10040</td>\n",
              "      <td>37325</td>\n",
              "      <td>2.00</td>\n",
              "      <td>1</td>\n",
              "      <td>2</td>\n",
              "      <td>3</td>\n",
              "      <td>11</td>\n",
              "      <td>7680</td>\n",
              "      <td>2360</td>\n",
              "      <td>1940</td>\n",
              "      <td>2001</td>\n",
              "      <td>98004</td>\n",
              "      <td>47.65</td>\n",
              "      <td>-122.21</td>\n",
              "    </tr>\n",
              "    <tr>\n",
              "      <th>7252</th>\n",
              "      <td>6762700020</td>\n",
              "      <td>2014-10-13</td>\n",
              "      <td>7,700,000.00</td>\n",
              "      <td>6</td>\n",
              "      <td>12050</td>\n",
              "      <td>27600</td>\n",
              "      <td>2.50</td>\n",
              "      <td>0</td>\n",
              "      <td>3</td>\n",
              "      <td>4</td>\n",
              "      <td>13</td>\n",
              "      <td>8570</td>\n",
              "      <td>3480</td>\n",
              "      <td>1910</td>\n",
              "      <td>1987</td>\n",
              "      <td>98102</td>\n",
              "      <td>47.63</td>\n",
              "      <td>-122.32</td>\n",
              "    </tr>\n",
              "  </tbody>\n",
              "</table>\n",
              "</div>\n",
              "      <button class=\"colab-df-convert\" onclick=\"convertToInteractive('df-41013d66-663b-4779-b786-6ffda0fb40ba')\"\n",
              "              title=\"Convert this dataframe to an interactive table.\"\n",
              "              style=\"display:none;\">\n",
              "        \n",
              "  <svg xmlns=\"http://www.w3.org/2000/svg\" height=\"24px\"viewBox=\"0 0 24 24\"\n",
              "       width=\"24px\">\n",
              "    <path d=\"M0 0h24v24H0V0z\" fill=\"none\"/>\n",
              "    <path d=\"M18.56 5.44l.94 2.06.94-2.06 2.06-.94-2.06-.94-.94-2.06-.94 2.06-2.06.94zm-11 1L8.5 8.5l.94-2.06 2.06-.94-2.06-.94L8.5 2.5l-.94 2.06-2.06.94zm10 10l.94 2.06.94-2.06 2.06-.94-2.06-.94-.94-2.06-.94 2.06-2.06.94z\"/><path d=\"M17.41 7.96l-1.37-1.37c-.4-.4-.92-.59-1.43-.59-.52 0-1.04.2-1.43.59L10.3 9.45l-7.72 7.72c-.78.78-.78 2.05 0 2.83L4 21.41c.39.39.9.59 1.41.59.51 0 1.02-.2 1.41-.59l7.78-7.78 2.81-2.81c.8-.78.8-2.07 0-2.86zM5.41 20L4 18.59l7.72-7.72 1.47 1.35L5.41 20z\"/>\n",
              "  </svg>\n",
              "      </button>\n",
              "      \n",
              "  <style>\n",
              "    .colab-df-container {\n",
              "      display:flex;\n",
              "      flex-wrap:wrap;\n",
              "      gap: 12px;\n",
              "    }\n",
              "\n",
              "    .colab-df-convert {\n",
              "      background-color: #E8F0FE;\n",
              "      border: none;\n",
              "      border-radius: 50%;\n",
              "      cursor: pointer;\n",
              "      display: none;\n",
              "      fill: #1967D2;\n",
              "      height: 32px;\n",
              "      padding: 0 0 0 0;\n",
              "      width: 32px;\n",
              "    }\n",
              "\n",
              "    .colab-df-convert:hover {\n",
              "      background-color: #E2EBFA;\n",
              "      box-shadow: 0px 1px 2px rgba(60, 64, 67, 0.3), 0px 1px 3px 1px rgba(60, 64, 67, 0.15);\n",
              "      fill: #174EA6;\n",
              "    }\n",
              "\n",
              "    [theme=dark] .colab-df-convert {\n",
              "      background-color: #3B4455;\n",
              "      fill: #D2E3FC;\n",
              "    }\n",
              "\n",
              "    [theme=dark] .colab-df-convert:hover {\n",
              "      background-color: #434B5C;\n",
              "      box-shadow: 0px 1px 3px 1px rgba(0, 0, 0, 0.15);\n",
              "      filter: drop-shadow(0px 1px 2px rgba(0, 0, 0, 0.3));\n",
              "      fill: #FFFFFF;\n",
              "    }\n",
              "  </style>\n",
              "\n",
              "      <script>\n",
              "        const buttonEl =\n",
              "          document.querySelector('#df-41013d66-663b-4779-b786-6ffda0fb40ba button.colab-df-convert');\n",
              "        buttonEl.style.display =\n",
              "          google.colab.kernel.accessAllowed ? 'block' : 'none';\n",
              "\n",
              "        async function convertToInteractive(key) {\n",
              "          const element = document.querySelector('#df-41013d66-663b-4779-b786-6ffda0fb40ba');\n",
              "          const dataTable =\n",
              "            await google.colab.kernel.invokeFunction('convertToInteractive',\n",
              "                                                     [key], {});\n",
              "          if (!dataTable) return;\n",
              "\n",
              "          const docLinkHtml = 'Like what you see? Visit the ' +\n",
              "            '<a target=\"_blank\" href=https://colab.research.google.com/notebooks/data_table.ipynb>data table notebook</a>'\n",
              "            + ' to learn more about interactive tables.';\n",
              "          element.innerHTML = '';\n",
              "          dataTable['output_type'] = 'display_data';\n",
              "          await google.colab.output.renderOutput(dataTable, element);\n",
              "          const docLink = document.createElement('div');\n",
              "          docLink.innerHTML = docLinkHtml;\n",
              "          element.appendChild(docLink);\n",
              "        }\n",
              "      </script>\n",
              "    </div>\n",
              "  </div>\n",
              "  "
            ],
            "text/plain": [
              "              id       date        price  bedrooms  sqft_living  sqft_lot  \\\n",
              "3914  9808700762 2014-06-11 7,060,000.00         5        10040     37325   \n",
              "7252  6762700020 2014-10-13 7,700,000.00         6        12050     27600   \n",
              "\n",
              "      floors  waterfront  view  condition  grade  sqft_above  sqft_basement  \\\n",
              "3914    2.00           1     2          3     11        7680           2360   \n",
              "7252    2.50           0     3          4     13        8570           3480   \n",
              "\n",
              "      yr_built  yr_renovated  zipcode   lat    long  \n",
              "3914      1940          2001    98004 47.65 -122.21  \n",
              "7252      1910          1987    98102 47.63 -122.32  "
            ]
          },
          "metadata": {},
          "execution_count": 24
        }
      ]
    },
    {
      "cell_type": "markdown",
      "source": [
        "<b> House with 0 bedrooms </b>"
      ],
      "metadata": {
        "id": "BAGlCNPyrJdb"
      }
    },
    {
      "cell_type": "markdown",
      "source": [
        "These rows look like buildings with shared toilets"
      ],
      "metadata": {
        "id": "VBbSdMDIryGn"
      }
    },
    {
      "cell_type": "code",
      "source": [
        "bed_filter=salesusa['bedrooms']==0\n",
        "salesusa[bed_filter].head(2)"
      ],
      "metadata": {
        "colab": {
          "base_uri": "https://localhost:8080/",
          "height": 210
        },
        "id": "Vyd9Mnp_nd9a",
        "outputId": "2b9548a2-d92d-4e00-9cde-45227d90f6dd"
      },
      "execution_count": null,
      "outputs": [
        {
          "output_type": "execute_result",
          "data": {
            "text/html": [
              "\n",
              "  <div id=\"df-3beb29a5-5cbe-46b0-a411-ceaf44a6fd4e\">\n",
              "    <div class=\"colab-df-container\">\n",
              "      <div>\n",
              "<style scoped>\n",
              "    .dataframe tbody tr th:only-of-type {\n",
              "        vertical-align: middle;\n",
              "    }\n",
              "\n",
              "    .dataframe tbody tr th {\n",
              "        vertical-align: top;\n",
              "    }\n",
              "\n",
              "    .dataframe thead th {\n",
              "        text-align: right;\n",
              "    }\n",
              "</style>\n",
              "<table border=\"1\" class=\"dataframe\">\n",
              "  <thead>\n",
              "    <tr style=\"text-align: right;\">\n",
              "      <th></th>\n",
              "      <th>id</th>\n",
              "      <th>date</th>\n",
              "      <th>price</th>\n",
              "      <th>bedrooms</th>\n",
              "      <th>sqft_living</th>\n",
              "      <th>sqft_lot</th>\n",
              "      <th>floors</th>\n",
              "      <th>waterfront</th>\n",
              "      <th>view</th>\n",
              "      <th>condition</th>\n",
              "      <th>grade</th>\n",
              "      <th>sqft_above</th>\n",
              "      <th>sqft_basement</th>\n",
              "      <th>yr_built</th>\n",
              "      <th>yr_renovated</th>\n",
              "      <th>zipcode</th>\n",
              "      <th>lat</th>\n",
              "      <th>long</th>\n",
              "    </tr>\n",
              "  </thead>\n",
              "  <tbody>\n",
              "    <tr>\n",
              "      <th>875</th>\n",
              "      <td>6306400140</td>\n",
              "      <td>2014-06-12</td>\n",
              "      <td>1,100,000.00</td>\n",
              "      <td>0</td>\n",
              "      <td>3064</td>\n",
              "      <td>4764</td>\n",
              "      <td>3.50</td>\n",
              "      <td>0</td>\n",
              "      <td>2</td>\n",
              "      <td>3</td>\n",
              "      <td>7</td>\n",
              "      <td>3064</td>\n",
              "      <td>0</td>\n",
              "      <td>1990</td>\n",
              "      <td>0</td>\n",
              "      <td>98102</td>\n",
              "      <td>47.64</td>\n",
              "      <td>-122.32</td>\n",
              "    </tr>\n",
              "    <tr>\n",
              "      <th>3119</th>\n",
              "      <td>3918400017</td>\n",
              "      <td>2015-02-05</td>\n",
              "      <td>380,000.00</td>\n",
              "      <td>0</td>\n",
              "      <td>1470</td>\n",
              "      <td>979</td>\n",
              "      <td>3.00</td>\n",
              "      <td>0</td>\n",
              "      <td>2</td>\n",
              "      <td>3</td>\n",
              "      <td>8</td>\n",
              "      <td>1470</td>\n",
              "      <td>0</td>\n",
              "      <td>2006</td>\n",
              "      <td>0</td>\n",
              "      <td>98133</td>\n",
              "      <td>47.71</td>\n",
              "      <td>-122.36</td>\n",
              "    </tr>\n",
              "  </tbody>\n",
              "</table>\n",
              "</div>\n",
              "      <button class=\"colab-df-convert\" onclick=\"convertToInteractive('df-3beb29a5-5cbe-46b0-a411-ceaf44a6fd4e')\"\n",
              "              title=\"Convert this dataframe to an interactive table.\"\n",
              "              style=\"display:none;\">\n",
              "        \n",
              "  <svg xmlns=\"http://www.w3.org/2000/svg\" height=\"24px\"viewBox=\"0 0 24 24\"\n",
              "       width=\"24px\">\n",
              "    <path d=\"M0 0h24v24H0V0z\" fill=\"none\"/>\n",
              "    <path d=\"M18.56 5.44l.94 2.06.94-2.06 2.06-.94-2.06-.94-.94-2.06-.94 2.06-2.06.94zm-11 1L8.5 8.5l.94-2.06 2.06-.94-2.06-.94L8.5 2.5l-.94 2.06-2.06.94zm10 10l.94 2.06.94-2.06 2.06-.94-2.06-.94-.94-2.06-.94 2.06-2.06.94z\"/><path d=\"M17.41 7.96l-1.37-1.37c-.4-.4-.92-.59-1.43-.59-.52 0-1.04.2-1.43.59L10.3 9.45l-7.72 7.72c-.78.78-.78 2.05 0 2.83L4 21.41c.39.39.9.59 1.41.59.51 0 1.02-.2 1.41-.59l7.78-7.78 2.81-2.81c.8-.78.8-2.07 0-2.86zM5.41 20L4 18.59l7.72-7.72 1.47 1.35L5.41 20z\"/>\n",
              "  </svg>\n",
              "      </button>\n",
              "      \n",
              "  <style>\n",
              "    .colab-df-container {\n",
              "      display:flex;\n",
              "      flex-wrap:wrap;\n",
              "      gap: 12px;\n",
              "    }\n",
              "\n",
              "    .colab-df-convert {\n",
              "      background-color: #E8F0FE;\n",
              "      border: none;\n",
              "      border-radius: 50%;\n",
              "      cursor: pointer;\n",
              "      display: none;\n",
              "      fill: #1967D2;\n",
              "      height: 32px;\n",
              "      padding: 0 0 0 0;\n",
              "      width: 32px;\n",
              "    }\n",
              "\n",
              "    .colab-df-convert:hover {\n",
              "      background-color: #E2EBFA;\n",
              "      box-shadow: 0px 1px 2px rgba(60, 64, 67, 0.3), 0px 1px 3px 1px rgba(60, 64, 67, 0.15);\n",
              "      fill: #174EA6;\n",
              "    }\n",
              "\n",
              "    [theme=dark] .colab-df-convert {\n",
              "      background-color: #3B4455;\n",
              "      fill: #D2E3FC;\n",
              "    }\n",
              "\n",
              "    [theme=dark] .colab-df-convert:hover {\n",
              "      background-color: #434B5C;\n",
              "      box-shadow: 0px 1px 3px 1px rgba(0, 0, 0, 0.15);\n",
              "      filter: drop-shadow(0px 1px 2px rgba(0, 0, 0, 0.3));\n",
              "      fill: #FFFFFF;\n",
              "    }\n",
              "  </style>\n",
              "\n",
              "      <script>\n",
              "        const buttonEl =\n",
              "          document.querySelector('#df-3beb29a5-5cbe-46b0-a411-ceaf44a6fd4e button.colab-df-convert');\n",
              "        buttonEl.style.display =\n",
              "          google.colab.kernel.accessAllowed ? 'block' : 'none';\n",
              "\n",
              "        async function convertToInteractive(key) {\n",
              "          const element = document.querySelector('#df-3beb29a5-5cbe-46b0-a411-ceaf44a6fd4e');\n",
              "          const dataTable =\n",
              "            await google.colab.kernel.invokeFunction('convertToInteractive',\n",
              "                                                     [key], {});\n",
              "          if (!dataTable) return;\n",
              "\n",
              "          const docLinkHtml = 'Like what you see? Visit the ' +\n",
              "            '<a target=\"_blank\" href=https://colab.research.google.com/notebooks/data_table.ipynb>data table notebook</a>'\n",
              "            + ' to learn more about interactive tables.';\n",
              "          element.innerHTML = '';\n",
              "          dataTable['output_type'] = 'display_data';\n",
              "          await google.colab.output.renderOutput(dataTable, element);\n",
              "          const docLink = document.createElement('div');\n",
              "          docLink.innerHTML = docLinkHtml;\n",
              "          element.appendChild(docLink);\n",
              "        }\n",
              "      </script>\n",
              "    </div>\n",
              "  </div>\n",
              "  "
            ],
            "text/plain": [
              "              id       date        price  bedrooms  sqft_living  sqft_lot  \\\n",
              "875   6306400140 2014-06-12 1,100,000.00         0         3064      4764   \n",
              "3119  3918400017 2015-02-05   380,000.00         0         1470       979   \n",
              "\n",
              "      floors  waterfront  view  condition  grade  sqft_above  sqft_basement  \\\n",
              "875     3.50           0     2          3      7        3064              0   \n",
              "3119    3.00           0     2          3      8        1470              0   \n",
              "\n",
              "      yr_built  yr_renovated  zipcode   lat    long  \n",
              "875       1990             0    98102 47.64 -122.32  \n",
              "3119      2006             0    98133 47.71 -122.36  "
            ]
          },
          "metadata": {},
          "execution_count": 25
        }
      ]
    },
    {
      "cell_type": "markdown",
      "source": [
        "#### Visualizing the Data Distribution"
      ],
      "metadata": {
        "id": "-HlbsvS_9Cu0"
      }
    },
    {
      "cell_type": "code",
      "source": [
        "def show_distribution(df, column):\n",
        "    fig, axes = plt.subplots(1,2, figsize=(15, 5))\n",
        "    \n",
        "    text  = 'Std dev: ' + str(round(df[column].std(), 2)) + '\\n'\n",
        "    text += 'Mean: ' + str(round(df[column].mean(), 2)) + '\\n'\n",
        "    text += 'Median: ' + str(round(df[column].median(), 2)) + '\\n'\n",
        "\n",
        "    fig.suptitle(column)\n",
        "    \n",
        "    # Histogram\n",
        "    num_bins = int(round(df[column].count()**(1/3)*2, 0))\n",
        "    sns.histplot(salesusa[column], bins=num_bins, ax=axes[0])\n",
        "    axes[0].set_title('Distribution I')\n",
        "    axes[0].text(0.35, 0.5, text, fontsize=10, transform=plt.gcf().transFigure)\n",
        "    \n",
        "    # Box Plot\n",
        "    sns.boxplot(x=column,\n",
        "                data=salesusa, \n",
        "                showmeans=True,\n",
        "                meanline=True,\n",
        "                meanprops={'color':'white'},\n",
        "                ax=axes[1])\n",
        "    axes[1].set_title('Distribution II')\n",
        "\n",
        "    plt.show()"
      ],
      "metadata": {
        "id": "kYqO_8rIDmUM"
      },
      "execution_count": null,
      "outputs": []
    },
    {
      "cell_type": "code",
      "source": [
        "for column in numerical:\n",
        "    show_distribution(df,column)"
      ],
      "metadata": {
        "colab": {
          "base_uri": "https://localhost:8080/",
          "height": 1000
        },
        "id": "2IXwSqHSDprb",
        "outputId": "96c489b5-2b65-4db1-e6ec-c0fddb4d5244"
      },
      "execution_count": null,
      "outputs": [
        {
          "output_type": "display_data",
          "data": {
            "image/png": "[encoded data removed]",
            "text/plain": [
              "<Figure size 1080x360 with 2 Axes>"
            ]
          },
          "metadata": {
            "needs_background": "light"
          }
        },
        {
          "output_type": "display_data",
          "data": {
            "image/png": "[encoded data removed]",
            "text/plain": [
              "<Figure size 1080x360 with 2 Axes>"
            ]
          },
          "metadata": {
            "needs_background": "light"
          }
        },
        {
          "output_type": "display_data",
          "data": {
            "image/png": "[encoded data removed]",
            "text/plain": [
              "<Figure size 1080x360 with 2 Axes>"
            ]
          },
          "metadata": {
            "needs_background": "light"
          }
        },
        {
          "output_type": "display_data",
          "data": {
            "image/png": "[encoded data removed]",
            "text/plain": [
              "<Figure size 1080x360 with 2 Axes>"
            ]
          },
          "metadata": {
            "needs_background": "light"
          }
        },
        {
          "output_type": "display_data",
          "data": {
            "image/png": "[encoded data removed]",
            "text/plain": [
              "<Figure size 1080x360 with 2 Axes>"
            ]
          },
          "metadata": {
            "needs_background": "light"
          }
        },
        {
          "output_type": "display_data",
          "data": {
            "image/png": "[encoded data removed]",
            "text/plain": [
              "<Figure size 1080x360 with 2 Axes>"
            ]
          },
          "metadata": {
            "needs_background": "light"
          }
        },
        {
          "output_type": "display_data",
          "data": {
            "image/png": "[encoded data removed]",
            "text/plain": [
              "<Figure size 1080x360 with 2 Axes>"
            ]
          },
          "metadata": {
            "needs_background": "light"
          }
        }
      ]
    },
    {
      "cell_type": "markdown",
      "source": [
        "#### Categorical Counts"
      ],
      "metadata": {
        "id": "mUxzVuDKL0x_"
      }
    },
    {
      "cell_type": "markdown",
      "source": [
        "##### sales house by each waterfront"
      ],
      "metadata": {
        "id": "CzfYbUN2L3LL"
      }
    },
    {
      "cell_type": "code",
      "source": [
        "g1 = salesusa.groupby('waterfront').agg(numofsales = ('id','size'),\n",
        "                                   pct = ('id',lambda x:x.count()/salesusa['id'].size))\\\n",
        ".sort_values('pct',ascending=False)\n",
        "\n",
        "g2 = salesusa.agg(numofsales = ('id','size'),\n",
        "        pct = ('id',lambda x:x.count() / salesusa['id'].size)).transpose()\\\n",
        ".rename(index={'id': 'Total'})\n",
        "\n",
        "res = pd.concat([g1,g2])\n",
        "res.assign(numofsales = res['numofsales'].astype(int))\\\n",
        ".style.format({'pct': \"{:.2%}\"})"
      ],
      "metadata": {
        "colab": {
          "base_uri": "https://localhost:8080/",
          "height": 143
        },
        "id": "DrcYX-9uHsb2",
        "outputId": "e6ccafbc-59dd-49e3-d299-d9201686fb32"
      },
      "execution_count": null,
      "outputs": [
        {
          "output_type": "execute_result",
          "data": {
            "text/html": [
              "<style type=\"text/css\">\n",
              "</style>\n",
              "<table id=\"T_2b02f_\" class=\"dataframe\">\n",
              "  <thead>\n",
              "    <tr>\n",
              "      <th class=\"blank level0\" >&nbsp;</th>\n",
              "      <th class=\"col_heading level0 col0\" >numofsales</th>\n",
              "      <th class=\"col_heading level0 col1\" >pct</th>\n",
              "    </tr>\n",
              "  </thead>\n",
              "  <tbody>\n",
              "    <tr>\n",
              "      <th id=\"T_2b02f_level0_row0\" class=\"row_heading level0 row0\" >0</th>\n",
              "      <td id=\"T_2b02f_row0_col0\" class=\"data row0 col0\" >21450</td>\n",
              "      <td id=\"T_2b02f_row0_col1\" class=\"data row0 col1\" >99.25%</td>\n",
              "    </tr>\n",
              "    <tr>\n",
              "      <th id=\"T_2b02f_level0_row1\" class=\"row_heading level0 row1\" >1</th>\n",
              "      <td id=\"T_2b02f_row1_col0\" class=\"data row1 col0\" >163</td>\n",
              "      <td id=\"T_2b02f_row1_col1\" class=\"data row1 col1\" >0.75%</td>\n",
              "    </tr>\n",
              "    <tr>\n",
              "      <th id=\"T_2b02f_level0_row2\" class=\"row_heading level0 row2\" >Total</th>\n",
              "      <td id=\"T_2b02f_row2_col0\" class=\"data row2 col0\" >21613</td>\n",
              "      <td id=\"T_2b02f_row2_col1\" class=\"data row2 col1\" >100.00%</td>\n",
              "    </tr>\n",
              "  </tbody>\n",
              "</table>\n"
            ],
            "text/plain": [
              "<pandas.io.formats.style.Styler at 0x7f5b57db1c50>"
            ]
          },
          "metadata": {},
          "execution_count": 28
        }
      ]
    },
    {
      "cell_type": "markdown",
      "source": [
        "##### sales house by each view\n",
        "\n",
        "* An index from 0 to 4 of how good the view of the property was"
      ],
      "metadata": {
        "id": "WMjo3_tqMbsH"
      }
    },
    {
      "cell_type": "code",
      "source": [
        "g1 = salesusa.groupby('view').agg(numofsales = ('id','size'),\n",
        "                                   pct = ('id',lambda x:x.count()/salesusa['id'].size))\\\n",
        ".sort_values('pct',ascending=False)\n",
        "\n",
        "g2 = salesusa.agg(numofsales = ('id','size'),\n",
        "        pct = ('id',lambda x:x.count() / salesusa['id'].size)).transpose()\\\n",
        ".rename(index={'id': 'Total'})\n",
        "\n",
        "res = pd.concat([g1,g2])\n",
        "res.assign(numofsales = res['numofsales'].astype(int))\\\n",
        ".style.format({'pct': \"{:.2%}\"})"
      ],
      "metadata": {
        "colab": {
          "base_uri": "https://localhost:8080/",
          "height": 238
        },
        "id": "EBrno65NJICo",
        "outputId": "9544f95a-255a-4dc9-fe5a-6d62b4a108ca"
      },
      "execution_count": null,
      "outputs": [
        {
          "output_type": "execute_result",
          "data": {
            "text/html": [
              "<style type=\"text/css\">\n",
              "</style>\n",
              "<table id=\"T_46e00_\" class=\"dataframe\">\n",
              "  <thead>\n",
              "    <tr>\n",
              "      <th class=\"blank level0\" >&nbsp;</th>\n",
              "      <th class=\"col_heading level0 col0\" >numofsales</th>\n",
              "      <th class=\"col_heading level0 col1\" >pct</th>\n",
              "    </tr>\n",
              "  </thead>\n",
              "  <tbody>\n",
              "    <tr>\n",
              "      <th id=\"T_46e00_level0_row0\" class=\"row_heading level0 row0\" >0</th>\n",
              "      <td id=\"T_46e00_row0_col0\" class=\"data row0 col0\" >19489</td>\n",
              "      <td id=\"T_46e00_row0_col1\" class=\"data row0 col1\" >90.17%</td>\n",
              "    </tr>\n",
              "    <tr>\n",
              "      <th id=\"T_46e00_level0_row1\" class=\"row_heading level0 row1\" >2</th>\n",
              "      <td id=\"T_46e00_row1_col0\" class=\"data row1 col0\" >963</td>\n",
              "      <td id=\"T_46e00_row1_col1\" class=\"data row1 col1\" >4.46%</td>\n",
              "    </tr>\n",
              "    <tr>\n",
              "      <th id=\"T_46e00_level0_row2\" class=\"row_heading level0 row2\" >3</th>\n",
              "      <td id=\"T_46e00_row2_col0\" class=\"data row2 col0\" >510</td>\n",
              "      <td id=\"T_46e00_row2_col1\" class=\"data row2 col1\" >2.36%</td>\n",
              "    </tr>\n",
              "    <tr>\n",
              "      <th id=\"T_46e00_level0_row3\" class=\"row_heading level0 row3\" >1</th>\n",
              "      <td id=\"T_46e00_row3_col0\" class=\"data row3 col0\" >332</td>\n",
              "      <td id=\"T_46e00_row3_col1\" class=\"data row3 col1\" >1.54%</td>\n",
              "    </tr>\n",
              "    <tr>\n",
              "      <th id=\"T_46e00_level0_row4\" class=\"row_heading level0 row4\" >4</th>\n",
              "      <td id=\"T_46e00_row4_col0\" class=\"data row4 col0\" >319</td>\n",
              "      <td id=\"T_46e00_row4_col1\" class=\"data row4 col1\" >1.48%</td>\n",
              "    </tr>\n",
              "    <tr>\n",
              "      <th id=\"T_46e00_level0_row5\" class=\"row_heading level0 row5\" >Total</th>\n",
              "      <td id=\"T_46e00_row5_col0\" class=\"data row5 col0\" >21613</td>\n",
              "      <td id=\"T_46e00_row5_col1\" class=\"data row5 col1\" >100.00%</td>\n",
              "    </tr>\n",
              "  </tbody>\n",
              "</table>\n"
            ],
            "text/plain": [
              "<pandas.io.formats.style.Styler at 0x7f5b5724f3d0>"
            ]
          },
          "metadata": {},
          "execution_count": 29
        }
      ]
    },
    {
      "cell_type": "markdown",
      "source": [
        "##### sales house by each condition\n",
        "\n",
        "* An index from 1 to 5 on the condition of the apartment"
      ],
      "metadata": {
        "id": "d6jYtRJZM38j"
      }
    },
    {
      "cell_type": "code",
      "source": [
        "g1 = salesusa.groupby('condition').agg(numofsales = ('id','size'),\n",
        "                                   pct = ('id',lambda x:x.count()/salesusa['id'].size))\\\n",
        ".sort_values('pct',ascending=False)\n",
        "\n",
        "g2 = salesusa.agg(numofsales = ('id','size'),\n",
        "        pct = ('id',lambda x:x.count() / salesusa['id'].size)).transpose()\\\n",
        ".rename(index={'id': 'Total'})\n",
        "\n",
        "res = pd.concat([g1,g2])\n",
        "res.assign(numofsales = res['numofsales'].astype(int))\\\n",
        ".style.format({'pct': \"{:.2%}\"})"
      ],
      "metadata": {
        "colab": {
          "base_uri": "https://localhost:8080/",
          "height": 238
        },
        "id": "D5cdAi9eM8zF",
        "outputId": "074559ef-2b60-4bd8-e3bd-acb2783212ca"
      },
      "execution_count": null,
      "outputs": [
        {
          "output_type": "execute_result",
          "data": {
            "text/html": [
              "<style type=\"text/css\">\n",
              "</style>\n",
              "<table id=\"T_eafd4_\" class=\"dataframe\">\n",
              "  <thead>\n",
              "    <tr>\n",
              "      <th class=\"blank level0\" >&nbsp;</th>\n",
              "      <th class=\"col_heading level0 col0\" >numofsales</th>\n",
              "      <th class=\"col_heading level0 col1\" >pct</th>\n",
              "    </tr>\n",
              "  </thead>\n",
              "  <tbody>\n",
              "    <tr>\n",
              "      <th id=\"T_eafd4_level0_row0\" class=\"row_heading level0 row0\" >3</th>\n",
              "      <td id=\"T_eafd4_row0_col0\" class=\"data row0 col0\" >14031</td>\n",
              "      <td id=\"T_eafd4_row0_col1\" class=\"data row0 col1\" >64.92%</td>\n",
              "    </tr>\n",
              "    <tr>\n",
              "      <th id=\"T_eafd4_level0_row1\" class=\"row_heading level0 row1\" >4</th>\n",
              "      <td id=\"T_eafd4_row1_col0\" class=\"data row1 col0\" >5679</td>\n",
              "      <td id=\"T_eafd4_row1_col1\" class=\"data row1 col1\" >26.28%</td>\n",
              "    </tr>\n",
              "    <tr>\n",
              "      <th id=\"T_eafd4_level0_row2\" class=\"row_heading level0 row2\" >5</th>\n",
              "      <td id=\"T_eafd4_row2_col0\" class=\"data row2 col0\" >1701</td>\n",
              "      <td id=\"T_eafd4_row2_col1\" class=\"data row2 col1\" >7.87%</td>\n",
              "    </tr>\n",
              "    <tr>\n",
              "      <th id=\"T_eafd4_level0_row3\" class=\"row_heading level0 row3\" >2</th>\n",
              "      <td id=\"T_eafd4_row3_col0\" class=\"data row3 col0\" >172</td>\n",
              "      <td id=\"T_eafd4_row3_col1\" class=\"data row3 col1\" >0.80%</td>\n",
              "    </tr>\n",
              "    <tr>\n",
              "      <th id=\"T_eafd4_level0_row4\" class=\"row_heading level0 row4\" >1</th>\n",
              "      <td id=\"T_eafd4_row4_col0\" class=\"data row4 col0\" >30</td>\n",
              "      <td id=\"T_eafd4_row4_col1\" class=\"data row4 col1\" >0.14%</td>\n",
              "    </tr>\n",
              "    <tr>\n",
              "      <th id=\"T_eafd4_level0_row5\" class=\"row_heading level0 row5\" >Total</th>\n",
              "      <td id=\"T_eafd4_row5_col0\" class=\"data row5 col0\" >21613</td>\n",
              "      <td id=\"T_eafd4_row5_col1\" class=\"data row5 col1\" >100.00%</td>\n",
              "    </tr>\n",
              "  </tbody>\n",
              "</table>\n"
            ],
            "text/plain": [
              "<pandas.io.formats.style.Styler at 0x7f5b574d6850>"
            ]
          },
          "metadata": {},
          "execution_count": 30
        }
      ]
    },
    {
      "cell_type": "markdown",
      "source": [
        "##### sales house by each grade\n",
        "\n",
        "* An index from 1 to 13, where 1-3 falls short of building construction and design, 7 has an average level of construction and design, and 11-13 have a high quality level of construction and design"
      ],
      "metadata": {
        "id": "R-v1FywxNK2a"
      }
    },
    {
      "cell_type": "code",
      "source": [
        "g1 = salesusa.groupby('grade').agg(numofsales = ('id','size'),\n",
        "                                   pct = ('id',lambda x:x.count()/salesusa['id'].size))\\\n",
        ".sort_values('pct',ascending=False)\n",
        "\n",
        "g2 = salesusa.agg(numofsales = ('id','size'),\n",
        "        pct = ('id',lambda x:x.count() / salesusa['id'].size)).transpose()\\\n",
        ".rename(index={'id': 'Total'})\n",
        "\n",
        "res = pd.concat([g1,g2])\n",
        "res.assign(numofsales = res['numofsales'].astype(int))\\\n",
        ".style.format({'pct': \"{:.2%}\"})"
      ],
      "metadata": {
        "colab": {
          "base_uri": "https://localhost:8080/",
          "height": 457
        },
        "id": "HobFRh8VNNkp",
        "outputId": "f931ca83-a0d0-4ed2-d84c-b071680f0c98"
      },
      "execution_count": null,
      "outputs": [
        {
          "output_type": "execute_result",
          "data": {
            "text/html": [
              "<style type=\"text/css\">\n",
              "</style>\n",
              "<table id=\"T_d54ee_\" class=\"dataframe\">\n",
              "  <thead>\n",
              "    <tr>\n",
              "      <th class=\"blank level0\" >&nbsp;</th>\n",
              "      <th class=\"col_heading level0 col0\" >numofsales</th>\n",
              "      <th class=\"col_heading level0 col1\" >pct</th>\n",
              "    </tr>\n",
              "  </thead>\n",
              "  <tbody>\n",
              "    <tr>\n",
              "      <th id=\"T_d54ee_level0_row0\" class=\"row_heading level0 row0\" >7</th>\n",
              "      <td id=\"T_d54ee_row0_col0\" class=\"data row0 col0\" >8981</td>\n",
              "      <td id=\"T_d54ee_row0_col1\" class=\"data row0 col1\" >41.55%</td>\n",
              "    </tr>\n",
              "    <tr>\n",
              "      <th id=\"T_d54ee_level0_row1\" class=\"row_heading level0 row1\" >8</th>\n",
              "      <td id=\"T_d54ee_row1_col0\" class=\"data row1 col0\" >6068</td>\n",
              "      <td id=\"T_d54ee_row1_col1\" class=\"data row1 col1\" >28.08%</td>\n",
              "    </tr>\n",
              "    <tr>\n",
              "      <th id=\"T_d54ee_level0_row2\" class=\"row_heading level0 row2\" >9</th>\n",
              "      <td id=\"T_d54ee_row2_col0\" class=\"data row2 col0\" >2615</td>\n",
              "      <td id=\"T_d54ee_row2_col1\" class=\"data row2 col1\" >12.10%</td>\n",
              "    </tr>\n",
              "    <tr>\n",
              "      <th id=\"T_d54ee_level0_row3\" class=\"row_heading level0 row3\" >6</th>\n",
              "      <td id=\"T_d54ee_row3_col0\" class=\"data row3 col0\" >2038</td>\n",
              "      <td id=\"T_d54ee_row3_col1\" class=\"data row3 col1\" >9.43%</td>\n",
              "    </tr>\n",
              "    <tr>\n",
              "      <th id=\"T_d54ee_level0_row4\" class=\"row_heading level0 row4\" >10</th>\n",
              "      <td id=\"T_d54ee_row4_col0\" class=\"data row4 col0\" >1134</td>\n",
              "      <td id=\"T_d54ee_row4_col1\" class=\"data row4 col1\" >5.25%</td>\n",
              "    </tr>\n",
              "    <tr>\n",
              "      <th id=\"T_d54ee_level0_row5\" class=\"row_heading level0 row5\" >11</th>\n",
              "      <td id=\"T_d54ee_row5_col0\" class=\"data row5 col0\" >399</td>\n",
              "      <td id=\"T_d54ee_row5_col1\" class=\"data row5 col1\" >1.85%</td>\n",
              "    </tr>\n",
              "    <tr>\n",
              "      <th id=\"T_d54ee_level0_row6\" class=\"row_heading level0 row6\" >5</th>\n",
              "      <td id=\"T_d54ee_row6_col0\" class=\"data row6 col0\" >242</td>\n",
              "      <td id=\"T_d54ee_row6_col1\" class=\"data row6 col1\" >1.12%</td>\n",
              "    </tr>\n",
              "    <tr>\n",
              "      <th id=\"T_d54ee_level0_row7\" class=\"row_heading level0 row7\" >12</th>\n",
              "      <td id=\"T_d54ee_row7_col0\" class=\"data row7 col0\" >90</td>\n",
              "      <td id=\"T_d54ee_row7_col1\" class=\"data row7 col1\" >0.42%</td>\n",
              "    </tr>\n",
              "    <tr>\n",
              "      <th id=\"T_d54ee_level0_row8\" class=\"row_heading level0 row8\" >4</th>\n",
              "      <td id=\"T_d54ee_row8_col0\" class=\"data row8 col0\" >29</td>\n",
              "      <td id=\"T_d54ee_row8_col1\" class=\"data row8 col1\" >0.13%</td>\n",
              "    </tr>\n",
              "    <tr>\n",
              "      <th id=\"T_d54ee_level0_row9\" class=\"row_heading level0 row9\" >13</th>\n",
              "      <td id=\"T_d54ee_row9_col0\" class=\"data row9 col0\" >13</td>\n",
              "      <td id=\"T_d54ee_row9_col1\" class=\"data row9 col1\" >0.06%</td>\n",
              "    </tr>\n",
              "    <tr>\n",
              "      <th id=\"T_d54ee_level0_row10\" class=\"row_heading level0 row10\" >3</th>\n",
              "      <td id=\"T_d54ee_row10_col0\" class=\"data row10 col0\" >3</td>\n",
              "      <td id=\"T_d54ee_row10_col1\" class=\"data row10 col1\" >0.01%</td>\n",
              "    </tr>\n",
              "    <tr>\n",
              "      <th id=\"T_d54ee_level0_row11\" class=\"row_heading level0 row11\" >1</th>\n",
              "      <td id=\"T_d54ee_row11_col0\" class=\"data row11 col0\" >1</td>\n",
              "      <td id=\"T_d54ee_row11_col1\" class=\"data row11 col1\" >0.00%</td>\n",
              "    </tr>\n",
              "    <tr>\n",
              "      <th id=\"T_d54ee_level0_row12\" class=\"row_heading level0 row12\" >Total</th>\n",
              "      <td id=\"T_d54ee_row12_col0\" class=\"data row12 col0\" >21613</td>\n",
              "      <td id=\"T_d54ee_row12_col1\" class=\"data row12 col1\" >100.00%</td>\n",
              "    </tr>\n",
              "  </tbody>\n",
              "</table>\n"
            ],
            "text/plain": [
              "<pandas.io.formats.style.Styler at 0x7f5b5723d690>"
            ]
          },
          "metadata": {},
          "execution_count": 31
        }
      ]
    },
    {
      "cell_type": "markdown",
      "source": [
        "##### sales house by each yr_built\n",
        "\n",
        "* 1900-2014"
      ],
      "metadata": {
        "id": "Y8UDNxm4NjQ_"
      }
    },
    {
      "cell_type": "code",
      "source": [
        "g1 = salesusa.groupby('yr_built').agg(numofsales = ('id','size'),\n",
        "                                   pct = ('id',lambda x:x.count()/salesusa['id'].size))\\\n",
        ".sort_values('pct',ascending=False)\n",
        "\n",
        "g2 = salesusa.agg(numofsales = ('id','size'),\n",
        "        pct = ('id',lambda x:x.count() / salesusa['id'].size)).transpose()\\\n",
        ".rename(index={'id': 'Total'})\n",
        "\n",
        "res = pd.concat([g1,g2]).head()\n",
        "res.assign(numofsales = res['numofsales'].astype(int))\\\n",
        ".style.format({'pct': \"{:.2%}\"})"
      ],
      "metadata": {
        "colab": {
          "base_uri": "https://localhost:8080/",
          "height": 206
        },
        "id": "ADxyiqczNnz3",
        "outputId": "84e303a3-9c5d-40dc-b1fd-52919bb3c412"
      },
      "execution_count": null,
      "outputs": [
        {
          "output_type": "execute_result",
          "data": {
            "text/html": [
              "<style type=\"text/css\">\n",
              "</style>\n",
              "<table id=\"T_46d9e_\" class=\"dataframe\">\n",
              "  <thead>\n",
              "    <tr>\n",
              "      <th class=\"blank level0\" >&nbsp;</th>\n",
              "      <th class=\"col_heading level0 col0\" >numofsales</th>\n",
              "      <th class=\"col_heading level0 col1\" >pct</th>\n",
              "    </tr>\n",
              "  </thead>\n",
              "  <tbody>\n",
              "    <tr>\n",
              "      <th id=\"T_46d9e_level0_row0\" class=\"row_heading level0 row0\" >2014</th>\n",
              "      <td id=\"T_46d9e_row0_col0\" class=\"data row0 col0\" >559</td>\n",
              "      <td id=\"T_46d9e_row0_col1\" class=\"data row0 col1\" >2.59%</td>\n",
              "    </tr>\n",
              "    <tr>\n",
              "      <th id=\"T_46d9e_level0_row1\" class=\"row_heading level0 row1\" >2006</th>\n",
              "      <td id=\"T_46d9e_row1_col0\" class=\"data row1 col0\" >454</td>\n",
              "      <td id=\"T_46d9e_row1_col1\" class=\"data row1 col1\" >2.10%</td>\n",
              "    </tr>\n",
              "    <tr>\n",
              "      <th id=\"T_46d9e_level0_row2\" class=\"row_heading level0 row2\" >2005</th>\n",
              "      <td id=\"T_46d9e_row2_col0\" class=\"data row2 col0\" >450</td>\n",
              "      <td id=\"T_46d9e_row2_col1\" class=\"data row2 col1\" >2.08%</td>\n",
              "    </tr>\n",
              "    <tr>\n",
              "      <th id=\"T_46d9e_level0_row3\" class=\"row_heading level0 row3\" >2004</th>\n",
              "      <td id=\"T_46d9e_row3_col0\" class=\"data row3 col0\" >433</td>\n",
              "      <td id=\"T_46d9e_row3_col1\" class=\"data row3 col1\" >2.00%</td>\n",
              "    </tr>\n",
              "    <tr>\n",
              "      <th id=\"T_46d9e_level0_row4\" class=\"row_heading level0 row4\" >2003</th>\n",
              "      <td id=\"T_46d9e_row4_col0\" class=\"data row4 col0\" >422</td>\n",
              "      <td id=\"T_46d9e_row4_col1\" class=\"data row4 col1\" >1.95%</td>\n",
              "    </tr>\n",
              "  </tbody>\n",
              "</table>\n"
            ],
            "text/plain": [
              "<pandas.io.formats.style.Styler at 0x7f5b57248710>"
            ]
          },
          "metadata": {},
          "execution_count": 32
        }
      ]
    },
    {
      "cell_type": "code",
      "source": [
        "categorical = ['waterfront','view', 'condition', 'grade', 'yr_built']"
      ],
      "metadata": {
        "id": "mxHEGTmvPGZX"
      },
      "execution_count": null,
      "outputs": []
    },
    {
      "cell_type": "code",
      "source": [
        "def show_counts(df, column):\n",
        "    plt.figure(figsize=(15,8))\n",
        "    ax = sns.countplot(x=column,\n",
        "                       data=salesusa, \n",
        "                       order = salesusa[column].value_counts().index)\n",
        "    ax.set_title(column)\n",
        "    ax.tick_params(axis='x', rotation=90)\n",
        "    for p in ax.patches:\n",
        "            ax.annotate(p.get_height(), (p.get_x(), p.get_height()+10))\n"
      ],
      "metadata": {
        "id": "ZIEtll2QN0t1"
      },
      "execution_count": null,
      "outputs": []
    },
    {
      "cell_type": "code",
      "source": [
        "for column in categorical:\n",
        "    show_counts(df,column)"
      ],
      "metadata": {
        "colab": {
          "base_uri": "https://localhost:8080/",
          "height": 1000
        },
        "id": "lZ7uj3oZO5A0",
        "outputId": "edde61ec-8f5e-4d10-82d8-56987915ab64"
      },
      "execution_count": null,
      "outputs": [
        {
          "output_type": "display_data",
          "data": {
            "image/png": "[encoded data removed]",
            "text/plain": [
              "<Figure size 1080x576 with 1 Axes>"
            ]
          },
          "metadata": {
            "needs_background": "light"
          }
        },
        {
          "output_type": "display_data",
          "data": {
            "image/png": "[encoded data removed]",
            "text/plain": [
              "<Figure size 1080x576 with 1 Axes>"
            ]
          },
          "metadata": {
            "needs_background": "light"
          }
        },
        {
          "output_type": "display_data",
          "data": {
            "image/png": "[encoded data removed]",
            "text/plain": [
              "<Figure size 1080x576 with 1 Axes>"
            ]
          },
          "metadata": {
            "needs_background": "light"
          }
        },
        {
          "output_type": "display_data",
          "data": {
            "image/png": "[encoded data removed]",
            "text/plain": [
              "<Figure size 1080x576 with 1 Axes>"
            ]
          },
          "metadata": {
            "needs_background": "light"
          }
        },
        {
          "output_type": "display_data",
          "data": {
            "image/png": "[encoded data removed]",
            "text/plain": [
              "<Figure size 1080x576 with 1 Axes>"
            ]
          },
          "metadata": {
            "needs_background": "light"
          }
        }
      ]
    },
    {
      "cell_type": "markdown",
      "source": [
        "#### Categorical Counts Observations"
      ],
      "metadata": {
        "id": "YW8HNGgAQHeY"
      }
    },
    {
      "cell_type": "markdown",
      "source": [
        "<div style='background:coral;font-size:15px'> \n",
        "\n",
        "<b> Observations: </b>\n",
        "\n",
        "* It can be seen that 90% of the homes sold are with a 0 view.\n",
        "* It can be seen that 41% of the houses are with a grade 7\n",
        "* It can be seen that most of the homes sold (559) were new built 2014\n",
        "    \n",
        "</div>"
      ],
      "metadata": {
        "id": "OK1gF7SIQId6"
      }
    },
    {
      "cell_type": "markdown",
      "source": [
        "### Bivariate Analysis"
      ],
      "metadata": {
        "id": "D-_HYnQKTsyX"
      }
    },
    {
      "cell_type": "markdown",
      "source": [
        "#### numeric to numeric"
      ],
      "metadata": {
        "id": "Wbi7tlmZTv2J"
      }
    },
    {
      "cell_type": "code",
      "source": [
        "cols   = ['price','bedrooms', 'view', 'condition', 'grade' ,'floors','sqft_living', 'sqft_lot']"
      ],
      "metadata": {
        "id": "ZYxaPMq-UTid"
      },
      "execution_count": null,
      "outputs": []
    },
    {
      "cell_type": "code",
      "source": [
        "plt.figure(figsize=(15,8))\n",
        "sns.heatmap(salesusa[cols].corr(),annot=True)\\\n",
        ".set(title =  'Correlation Chart');"
      ],
      "metadata": {
        "colab": {
          "base_uri": "https://localhost:8080/",
          "height": 500
        },
        "id": "LUnZrfEdP6Et",
        "outputId": "77c6563d-e1c8-416f-fd70-662cf2fdeee7"
      },
      "execution_count": null,
      "outputs": [
        {
          "output_type": "display_data",
          "data": {
            "image/png": "[encoded data removed]",
            "text/plain": [
              "<Figure size 1080x576 with 2 Axes>"
            ]
          },
          "metadata": {
            "needs_background": "light"
          }
        }
      ]
    },
    {
      "cell_type": "markdown",
      "source": [
        "Visaulizing the correlation of grade & price, and grade & sqft_living"
      ],
      "metadata": {
        "id": "M19A-fJuIQ19"
      }
    },
    {
      "cell_type": "code",
      "source": [
        "sns.scatterplot(data=salesusa, x='price', y='sqft_living')\\\n",
        ".set(title = 'sqft_living / price');"
      ],
      "metadata": {
        "colab": {
          "base_uri": "https://localhost:8080/",
          "height": 295
        },
        "id": "-a6VOIgnWWVs",
        "outputId": "22f88880-3673-427d-ab00-992172e6ee25"
      },
      "execution_count": null,
      "outputs": [
        {
          "output_type": "display_data",
          "data": {
            "image/png": "[encoded data removed]",
            "text/plain": [
              "<Figure size 432x288 with 1 Axes>"
            ]
          },
          "metadata": {
            "needs_background": "light"
          }
        }
      ]
    },
    {
      "cell_type": "code",
      "source": [
        "sns.scatterplot(data=salesusa, x='grade', y='price')\\\n",
        ".set(title = 'grade / price');"
      ],
      "metadata": {
        "colab": {
          "base_uri": "https://localhost:8080/",
          "height": 295
        },
        "id": "tX3Xg_EFV7c6",
        "outputId": "cc9112ef-678c-4316-f987-c077fedf26a3"
      },
      "execution_count": null,
      "outputs": [
        {
          "output_type": "display_data",
          "data": {
            "image/png": "[encoded data removed]",
            "text/plain": [
              "<Figure size 432x288 with 1 Axes>"
            ]
          },
          "metadata": {
            "needs_background": "light"
          }
        }
      ]
    },
    {
      "cell_type": "code",
      "source": [
        "sns.scatterplot(data=salesusa, x='grade', y='sqft_living')\\\n",
        ".set(title = 'grade / sqft_living');"
      ],
      "metadata": {
        "colab": {
          "base_uri": "https://localhost:8080/",
          "height": 295
        },
        "id": "ua3UNGsDVlAZ",
        "outputId": "8f378704-5a72-438b-c759-e849666b6bb6"
      },
      "execution_count": null,
      "outputs": [
        {
          "output_type": "display_data",
          "data": {
            "image/png": "[encoded data removed]",
            "text/plain": [
              "<Figure size 432x288 with 1 Axes>"
            ]
          },
          "metadata": {
            "needs_background": "light"
          }
        }
      ]
    },
    {
      "cell_type": "markdown",
      "source": [
        "#### Numeric to Numeric Observations"
      ],
      "metadata": {
        "id": "ufr0zKVuW1zH"
      }
    },
    {
      "cell_type": "markdown",
      "source": [
        "<div style='background:coral;font-size:15px'> \n",
        "<b> Observations </b> \n",
        "<ul>\n",
        "    <li> It can be seen that the grade and sqft_living are the most influential on the price of the property </li>\n",
        "    <li> There isn't much of a relation between grade and sqft_living. </li>\n",
        "  \n",
        "</ul>\n",
        "</div>"
      ],
      "metadata": {
        "id": "4TVmDdswWxwM"
      }
    },
    {
      "cell_type": "markdown",
      "source": [
        "#### categorical to numeric"
      ],
      "metadata": {
        "id": "wE_cfShih7hk"
      }
    },
    {
      "cell_type": "markdown",
      "source": [
        "##### Visualizing Price by view"
      ],
      "metadata": {
        "id": "aDbFCoDfpOYG"
      }
    },
    {
      "cell_type": "code",
      "source": [
        "view_order=salesusa.groupby('view').agg(priceperview = ('price','sum'))\\\n",
        ".sort_values('priceperview',ascending=False).index\n",
        "\n",
        "plt.figure(figsize=(15,8))\n",
        "sns.barplot(data=salesusa, \n",
        "            y='price', \n",
        "            x='view',\n",
        "            estimator=np.median,\n",
        "            order = view_order)\\\n",
        ".ticklabel_format(style='plain', axis='y');"
      ],
      "metadata": {
        "colab": {
          "base_uri": "https://localhost:8080/",
          "height": 497
        },
        "id": "XHjaUNZ4kZNI",
        "outputId": "6624860a-b6c8-4da8-e604-e674d77354b6"
      },
      "execution_count": null,
      "outputs": [
        {
          "output_type": "display_data",
          "data": {
            "image/png": "[encoded data removed]",
            "text/plain": [
              "<Figure size 1080x576 with 1 Axes>"
            ]
          },
          "metadata": {
            "needs_background": "light"
          }
        }
      ]
    },
    {
      "cell_type": "markdown",
      "source": [
        "##### Visualizing Price by grade"
      ],
      "metadata": {
        "id": "CFwP5nlDJGnc"
      }
    },
    {
      "cell_type": "code",
      "source": [
        "df=salesusa.groupby('grade').agg(priceperview = ('price','median'))\\\n",
        ".sort_values('priceperview',ascending=False).index\n",
        "\n",
        "plt.figure(figsize=(15,8))\n",
        "sns.boxplot(x = 'grade',\n",
        "            y = 'price',\n",
        "            data = salesusa,\n",
        "            order = df,\n",
        "            showmeans=True,\n",
        "            meanline=True,\n",
        "            meanprops={'color':'white'});"
      ],
      "metadata": {
        "colab": {
          "base_uri": "https://localhost:8080/",
          "height": 508
        },
        "id": "H5rYSKnpm9Yn",
        "outputId": "2620287a-0b48-4131-c155-bc86fa9beac6"
      },
      "execution_count": null,
      "outputs": [
        {
          "output_type": "display_data",
          "data": {
            "image/png": "[encoded data removed]",
            "text/plain": [
              "<Figure size 1080x576 with 1 Axes>"
            ]
          },
          "metadata": {
            "needs_background": "light"
          }
        }
      ]
    },
    {
      "cell_type": "code",
      "source": [
        "grade_order=salesusa.groupby('grade').agg(priceperview = ('price','median'))\\\n",
        ".sort_values('priceperview',ascending=False).index\n",
        "\n",
        "plt.figure(figsize=(15,8))\n",
        "sns.barplot(data=salesusa, \n",
        "            y='price', \n",
        "            x='grade',\n",
        "            estimator=np.median,\n",
        "            order = grade_order)\\\n",
        ".ticklabel_format(style='plain', axis='y');"
      ],
      "metadata": {
        "colab": {
          "base_uri": "https://localhost:8080/",
          "height": 497
        },
        "id": "SKFmL1RzphOf",
        "outputId": "8821afa3-1616-41be-c14d-ab8fadebc245"
      },
      "execution_count": null,
      "outputs": [
        {
          "output_type": "display_data",
          "data": {
            "image/png": "[encoded data removed]",
            "text/plain": [
              "<Figure size 1080x576 with 1 Axes>"
            ]
          },
          "metadata": {
            "needs_background": "light"
          }
        }
      ]
    },
    {
      "cell_type": "markdown",
      "source": [
        "##### Visualizing Price by grade & grade"
      ],
      "metadata": {
        "id": "TqGhoV9xJNZ3"
      }
    },
    {
      "cell_type": "code",
      "source": [
        "plt.figure(figsize=(15,8))\n",
        "sns.boxplot(data=salesusa, y='price', \n",
        "            x='view', hue='grade', \n",
        "            showmeans=True, meanline=True, meanprops={'color':'white'}, orient='v')\\\n",
        ".set(title = 'Price by view & grade');"
      ],
      "metadata": {
        "colab": {
          "base_uri": "https://localhost:8080/",
          "height": 513
        },
        "id": "VNkmPEPVq261",
        "outputId": "8b501552-c7a3-4532-b5ac-8cbe8bd2612f"
      },
      "execution_count": null,
      "outputs": [
        {
          "output_type": "display_data",
          "data": {
            "image/png": "[encoded data removed]",
            "text/plain": [
              "<Figure size 1080x576 with 1 Axes>"
            ]
          },
          "metadata": {
            "needs_background": "light"
          }
        }
      ]
    },
    {
      "cell_type": "code",
      "source": [
        "salesusa.groupby('yr_built').agg(avgprice = ('price','mean')).sort_values('avgprice',ascending=False).head()"
      ],
      "metadata": {
        "colab": {
          "base_uri": "https://localhost:8080/",
          "height": 238
        },
        "id": "9LNh_MhmrG0q",
        "outputId": "049565d2-edef-4846-b1e0-1805d559ae3f"
      },
      "execution_count": null,
      "outputs": [
        {
          "output_type": "execute_result",
          "data": {
            "text/html": [
              "\n",
              "  <div id=\"df-dfe15bc0-dc15-44a1-88a4-1e5aaae66c85\">\n",
              "    <div class=\"colab-df-container\">\n",
              "      <div>\n",
              "<style scoped>\n",
              "    .dataframe tbody tr th:only-of-type {\n",
              "        vertical-align: middle;\n",
              "    }\n",
              "\n",
              "    .dataframe tbody tr th {\n",
              "        vertical-align: top;\n",
              "    }\n",
              "\n",
              "    .dataframe thead th {\n",
              "        text-align: right;\n",
              "    }\n",
              "</style>\n",
              "<table border=\"1\" class=\"dataframe\">\n",
              "  <thead>\n",
              "    <tr style=\"text-align: right;\">\n",
              "      <th></th>\n",
              "      <th>avgprice</th>\n",
              "    </tr>\n",
              "    <tr>\n",
              "      <th>yr_built</th>\n",
              "      <th></th>\n",
              "    </tr>\n",
              "  </thead>\n",
              "  <tbody>\n",
              "    <tr>\n",
              "      <th>1933</th>\n",
              "      <td>772,483.33</td>\n",
              "    </tr>\n",
              "    <tr>\n",
              "      <th>2015</th>\n",
              "      <td>759,970.95</td>\n",
              "    </tr>\n",
              "    <tr>\n",
              "      <th>1905</th>\n",
              "      <td>753,443.93</td>\n",
              "    </tr>\n",
              "    <tr>\n",
              "      <th>2001</th>\n",
              "      <td>741,340.04</td>\n",
              "    </tr>\n",
              "    <tr>\n",
              "      <th>1909</th>\n",
              "      <td>696,448.99</td>\n",
              "    </tr>\n",
              "  </tbody>\n",
              "</table>\n",
              "</div>\n",
              "      <button class=\"colab-df-convert\" onclick=\"convertToInteractive('df-dfe15bc0-dc15-44a1-88a4-1e5aaae66c85')\"\n",
              "              title=\"Convert this dataframe to an interactive table.\"\n",
              "              style=\"display:none;\">\n",
              "        \n",
              "  <svg xmlns=\"http://www.w3.org/2000/svg\" height=\"24px\"viewBox=\"0 0 24 24\"\n",
              "       width=\"24px\">\n",
              "    <path d=\"M0 0h24v24H0V0z\" fill=\"none\"/>\n",
              "    <path d=\"M18.56 5.44l.94 2.06.94-2.06 2.06-.94-2.06-.94-.94-2.06-.94 2.06-2.06.94zm-11 1L8.5 8.5l.94-2.06 2.06-.94-2.06-.94L8.5 2.5l-.94 2.06-2.06.94zm10 10l.94 2.06.94-2.06 2.06-.94-2.06-.94-.94-2.06-.94 2.06-2.06.94z\"/><path d=\"M17.41 7.96l-1.37-1.37c-.4-.4-.92-.59-1.43-.59-.52 0-1.04.2-1.43.59L10.3 9.45l-7.72 7.72c-.78.78-.78 2.05 0 2.83L4 21.41c.39.39.9.59 1.41.59.51 0 1.02-.2 1.41-.59l7.78-7.78 2.81-2.81c.8-.78.8-2.07 0-2.86zM5.41 20L4 18.59l7.72-7.72 1.47 1.35L5.41 20z\"/>\n",
              "  </svg>\n",
              "      </button>\n",
              "      \n",
              "  <style>\n",
              "    .colab-df-container {\n",
              "      display:flex;\n",
              "      flex-wrap:wrap;\n",
              "      gap: 12px;\n",
              "    }\n",
              "\n",
              "    .colab-df-convert {\n",
              "      background-color: #E8F0FE;\n",
              "      border: none;\n",
              "      border-radius: 50%;\n",
              "      cursor: pointer;\n",
              "      display: none;\n",
              "      fill: #1967D2;\n",
              "      height: 32px;\n",
              "      padding: 0 0 0 0;\n",
              "      width: 32px;\n",
              "    }\n",
              "\n",
              "    .colab-df-convert:hover {\n",
              "      background-color: #E2EBFA;\n",
              "      box-shadow: 0px 1px 2px rgba(60, 64, 67, 0.3), 0px 1px 3px 1px rgba(60, 64, 67, 0.15);\n",
              "      fill: #174EA6;\n",
              "    }\n",
              "\n",
              "    [theme=dark] .colab-df-convert {\n",
              "      background-color: #3B4455;\n",
              "      fill: #D2E3FC;\n",
              "    }\n",
              "\n",
              "    [theme=dark] .colab-df-convert:hover {\n",
              "      background-color: #434B5C;\n",
              "      box-shadow: 0px 1px 3px 1px rgba(0, 0, 0, 0.15);\n",
              "      filter: drop-shadow(0px 1px 2px rgba(0, 0, 0, 0.3));\n",
              "      fill: #FFFFFF;\n",
              "    }\n",
              "  </style>\n",
              "\n",
              "      <script>\n",
              "        const buttonEl =\n",
              "          document.querySelector('#df-dfe15bc0-dc15-44a1-88a4-1e5aaae66c85 button.colab-df-convert');\n",
              "        buttonEl.style.display =\n",
              "          google.colab.kernel.accessAllowed ? 'block' : 'none';\n",
              "\n",
              "        async function convertToInteractive(key) {\n",
              "          const element = document.querySelector('#df-dfe15bc0-dc15-44a1-88a4-1e5aaae66c85');\n",
              "          const dataTable =\n",
              "            await google.colab.kernel.invokeFunction('convertToInteractive',\n",
              "                                                     [key], {});\n",
              "          if (!dataTable) return;\n",
              "\n",
              "          const docLinkHtml = 'Like what you see? Visit the ' +\n",
              "            '<a target=\"_blank\" href=https://colab.research.google.com/notebooks/data_table.ipynb>data table notebook</a>'\n",
              "            + ' to learn more about interactive tables.';\n",
              "          element.innerHTML = '';\n",
              "          dataTable['output_type'] = 'display_data';\n",
              "          await google.colab.output.renderOutput(dataTable, element);\n",
              "          const docLink = document.createElement('div');\n",
              "          docLink.innerHTML = docLinkHtml;\n",
              "          element.appendChild(docLink);\n",
              "        }\n",
              "      </script>\n",
              "    </div>\n",
              "  </div>\n",
              "  "
            ],
            "text/plain": [
              "           avgprice\n",
              "yr_built           \n",
              "1933     772,483.33\n",
              "2015     759,970.95\n",
              "1905     753,443.93\n",
              "2001     741,340.04\n",
              "1909     696,448.99"
            ]
          },
          "metadata": {},
          "execution_count": 45
        }
      ]
    },
    {
      "cell_type": "code",
      "source": [
        "yr_built_order=salesusa.groupby('yr_built').agg(priceperview = ('price','mean'))\\\n",
        ".sort_values('priceperview',ascending=False).head().index\n",
        "\n",
        "plt.figure(figsize=(15,8))\n",
        "sns.barplot(data=salesusa, \n",
        "            y='price', \n",
        "            x='yr_built',\n",
        "            estimator=np.median,\n",
        "            order = yr_built_order)\\\n",
        ".ticklabel_format(style='plain', axis='y');"
      ],
      "metadata": {
        "colab": {
          "base_uri": "https://localhost:8080/",
          "height": 498
        },
        "id": "H5axSSBpp1NI",
        "outputId": "c349456f-ddee-48a3-b5d8-8279cf931cb6"
      },
      "execution_count": null,
      "outputs": [
        {
          "output_type": "display_data",
          "data": {
            "image/png": "[encoded data removed]",
            "text/plain": [
              "<Figure size 1080x576 with 1 Axes>"
            ]
          },
          "metadata": {
            "needs_background": "light"
          }
        }
      ]
    },
    {
      "cell_type": "code",
      "source": [
        "df=salesusa.groupby('bedrooms').agg(priceperview = ('price','median'))\\\n",
        ".sort_values('priceperview',ascending=False).index\n",
        "\n",
        "plt.figure(figsize=(15,8))\n",
        "sns.boxplot(x = 'bedrooms',\n",
        "            y = 'price',\n",
        "            data = salesusa,\n",
        "            order = df,\n",
        "            showmeans=True,\n",
        "            meanline=True,\n",
        "            meanprops={'color':'white'});"
      ],
      "metadata": {
        "colab": {
          "base_uri": "https://localhost:8080/",
          "height": 508
        },
        "id": "bThsgdE9tyBl",
        "outputId": "7a71f5a0-acb6-4f3e-effa-71b093cd5f6a"
      },
      "execution_count": null,
      "outputs": [
        {
          "output_type": "display_data",
          "data": {
            "image/png": "[encoded data removed]",
            "text/plain": [
              "<Figure size 1080x576 with 1 Axes>"
            ]
          },
          "metadata": {
            "needs_background": "light"
          }
        }
      ]
    },
    {
      "cell_type": "code",
      "source": [
        "floors_order=salesusa.groupby('floors').agg(priceperview = ('price','sum'))\\\n",
        ".sort_values('priceperview',ascending=False).index\n",
        "\n",
        "plt.figure(figsize=(15,8))\n",
        "sns.barplot(data=salesusa, \n",
        "            y='price', \n",
        "            x='floors',\n",
        "            estimator=np.median,\n",
        "            order = floors_order)\\\n",
        ".ticklabel_format(style='plain', axis='y');"
      ],
      "metadata": {
        "colab": {
          "base_uri": "https://localhost:8080/",
          "height": 497
        },
        "id": "wX_-Y_dSuBZt",
        "outputId": "fc9546c7-ae42-404c-8a59-db09621176a2"
      },
      "execution_count": null,
      "outputs": [
        {
          "output_type": "display_data",
          "data": {
            "image/png": "[encoded data removed]",
            "text/plain": [
              "<Figure size 1080x576 with 1 Axes>"
            ]
          },
          "metadata": {
            "needs_background": "light"
          }
        }
      ]
    },
    {
      "cell_type": "code",
      "source": [
        "plt.figure(figsize=(15,8))\n",
        "sns.boxplot(data=salesusa, y='price', \n",
        "            x='floors', hue='bedrooms', \n",
        "            showmeans=True, meanline=True, meanprops={'color':'white'}, orient='v')\\\n",
        ".set(title = 'Price by floors & bedrooms');"
      ],
      "metadata": {
        "colab": {
          "base_uri": "https://localhost:8080/",
          "height": 513
        },
        "id": "7knfYipNuoOm",
        "outputId": "02de9e7b-700b-468c-eceb-ae4dc89d5cbc"
      },
      "execution_count": null,
      "outputs": [
        {
          "output_type": "display_data",
          "data": {
            "image/png": "[encoded data removed]",
            "text/plain": [
              "<Figure size 1080x576 with 1 Axes>"
            ]
          },
          "metadata": {
            "needs_background": "light"
          }
        }
      ]
    },
    {
      "cell_type": "markdown",
      "source": [
        "##### Price by grade, floors, bedrooms, view, yr_built  - Observations"
      ],
      "metadata": {
        "id": "PHlFPH2VJsb4"
      }
    },
    {
      "cell_type": "markdown",
      "source": [
        "<div style='background:coral;font-size:15px'> \n",
        "\n",
        "<b> Observations </b>\n",
        "    \n",
        "<u> view </u>\n",
        "* You can see that the higher the view, the higher the price\n",
        "* view 4 is the higher price\n",
        "\n",
        "  \n",
        "<u> grade </u>\n",
        "* You can see that the higher the score, the higher the price\n",
        "* grade 13 is the higher price\n",
        "\n",
        "<u> grade & view </u>\n",
        "* It can be seen that view 3 and grade 13 are the highest prices\n",
        "\n",
        "<u> yr_built </u>\n",
        "* It can be seen that in 2015, 1905, 2001, 1909 the prices are the highest\n",
        "\n",
        "<u> batrooms </u>\n",
        "* It can be seen that homes with 8 batrooms have the highest prices\n",
        "\n",
        "<u> floors </u>\n",
        "* It can be seen that houses with 2.5 floors prices are high\n",
        "\n",
        "<u> floors &  bedrooms </u>\n",
        "* It can be seen that the combination of 2.5 floors and 8 rooms the highest prices\n",
        "\n",
        "</div>"
      ],
      "metadata": {
        "id": "-us0ILB6KNLo"
      }
    },
    {
      "cell_type": "markdown",
      "source": [
        "#### categorical to categorical"
      ],
      "metadata": {
        "id": "gXz3nLrss_QT"
      }
    },
    {
      "cell_type": "code",
      "source": [
        "plt.figure(figsize=(15,8))\n",
        "sns.heatmap(salesusa[categorical].corr(),annot=True)\\\n",
        ".set(title =  'Correlation Chart');"
      ],
      "metadata": {
        "colab": {
          "base_uri": "https://localhost:8080/",
          "height": 500
        },
        "id": "8DVvCdldtJFY",
        "outputId": "0c9ca7cc-a7da-49ee-d9f9-96cb200031e3"
      },
      "execution_count": null,
      "outputs": [
        {
          "output_type": "display_data",
          "data": {
            "image/png": "[encoded data removed]",
            "text/plain": [
              "<Figure size 1080x576 with 2 Axes>"
            ]
          },
          "metadata": {
            "needs_background": "light"
          }
        }
      ]
    },
    {
      "cell_type": "code",
      "source": [
        "categorical = ['waterfront', 'view', 'condition', 'grade', 'yr_built', 'yr_renovated']\n",
        "numerical   = ['price', 'bedrooms', 'floors','sqft_living', 'sqft_lot', 'sqft_above', 'sqft_basement']"
      ],
      "metadata": {
        "id": "l-ne_RwwUMnS"
      },
      "execution_count": null,
      "outputs": []
    },
    {
      "cell_type": "markdown",
      "source": [
        "### Time Series Analysis"
      ],
      "metadata": {
        "id": "kw4KDTQTvR20"
      }
    },
    {
      "cell_type": "markdown",
      "source": [
        "Averge of price sales every year"
      ],
      "metadata": {
        "id": "2jB9FBr-NcFW"
      }
    },
    {
      "cell_type": "code",
      "source": [
        "salesusa.assign(year = salesusa['date'].dt.year)\\\n",
        ".groupby('year').agg(avgpriceperyear = ('price','mean'))"
      ],
      "metadata": {
        "colab": {
          "base_uri": "https://localhost:8080/",
          "height": 143
        },
        "id": "8zJm1a-CvfGD",
        "outputId": "71e6506e-997c-4ed0-ecff-4dcb9873c099"
      },
      "execution_count": null,
      "outputs": [
        {
          "output_type": "execute_result",
          "data": {
            "text/html": [
              "\n",
              "  <div id=\"df-f6ac2735-1649-4bd5-bd2a-a8e362e85c64\">\n",
              "    <div class=\"colab-df-container\">\n",
              "      <div>\n",
              "<style scoped>\n",
              "    .dataframe tbody tr th:only-of-type {\n",
              "        vertical-align: middle;\n",
              "    }\n",
              "\n",
              "    .dataframe tbody tr th {\n",
              "        vertical-align: top;\n",
              "    }\n",
              "\n",
              "    .dataframe thead th {\n",
              "        text-align: right;\n",
              "    }\n",
              "</style>\n",
              "<table border=\"1\" class=\"dataframe\">\n",
              "  <thead>\n",
              "    <tr style=\"text-align: right;\">\n",
              "      <th></th>\n",
              "      <th>avgpriceperyear</th>\n",
              "    </tr>\n",
              "    <tr>\n",
              "      <th>year</th>\n",
              "      <th></th>\n",
              "    </tr>\n",
              "  </thead>\n",
              "  <tbody>\n",
              "    <tr>\n",
              "      <th>2014</th>\n",
              "      <td>539,280.46</td>\n",
              "    </tr>\n",
              "    <tr>\n",
              "      <th>2015</th>\n",
              "      <td>542,072.50</td>\n",
              "    </tr>\n",
              "  </tbody>\n",
              "</table>\n",
              "</div>\n",
              "      <button class=\"colab-df-convert\" onclick=\"convertToInteractive('df-f6ac2735-1649-4bd5-bd2a-a8e362e85c64')\"\n",
              "              title=\"Convert this dataframe to an interactive table.\"\n",
              "              style=\"display:none;\">\n",
              "        \n",
              "  <svg xmlns=\"http://www.w3.org/2000/svg\" height=\"24px\"viewBox=\"0 0 24 24\"\n",
              "       width=\"24px\">\n",
              "    <path d=\"M0 0h24v24H0V0z\" fill=\"none\"/>\n",
              "    <path d=\"M18.56 5.44l.94 2.06.94-2.06 2.06-.94-2.06-.94-.94-2.06-.94 2.06-2.06.94zm-11 1L8.5 8.5l.94-2.06 2.06-.94-2.06-.94L8.5 2.5l-.94 2.06-2.06.94zm10 10l.94 2.06.94-2.06 2.06-.94-2.06-.94-.94-2.06-.94 2.06-2.06.94z\"/><path d=\"M17.41 7.96l-1.37-1.37c-.4-.4-.92-.59-1.43-.59-.52 0-1.04.2-1.43.59L10.3 9.45l-7.72 7.72c-.78.78-.78 2.05 0 2.83L4 21.41c.39.39.9.59 1.41.59.51 0 1.02-.2 1.41-.59l7.78-7.78 2.81-2.81c.8-.78.8-2.07 0-2.86zM5.41 20L4 18.59l7.72-7.72 1.47 1.35L5.41 20z\"/>\n",
              "  </svg>\n",
              "      </button>\n",
              "      \n",
              "  <style>\n",
              "    .colab-df-container {\n",
              "      display:flex;\n",
              "      flex-wrap:wrap;\n",
              "      gap: 12px;\n",
              "    }\n",
              "\n",
              "    .colab-df-convert {\n",
              "      background-color: #E8F0FE;\n",
              "      border: none;\n",
              "      border-radius: 50%;\n",
              "      cursor: pointer;\n",
              "      display: none;\n",
              "      fill: #1967D2;\n",
              "      height: 32px;\n",
              "      padding: 0 0 0 0;\n",
              "      width: 32px;\n",
              "    }\n",
              "\n",
              "    .colab-df-convert:hover {\n",
              "      background-color: #E2EBFA;\n",
              "      box-shadow: 0px 1px 2px rgba(60, 64, 67, 0.3), 0px 1px 3px 1px rgba(60, 64, 67, 0.15);\n",
              "      fill: #174EA6;\n",
              "    }\n",
              "\n",
              "    [theme=dark] .colab-df-convert {\n",
              "      background-color: #3B4455;\n",
              "      fill: #D2E3FC;\n",
              "    }\n",
              "\n",
              "    [theme=dark] .colab-df-convert:hover {\n",
              "      background-color: #434B5C;\n",
              "      box-shadow: 0px 1px 3px 1px rgba(0, 0, 0, 0.15);\n",
              "      filter: drop-shadow(0px 1px 2px rgba(0, 0, 0, 0.3));\n",
              "      fill: #FFFFFF;\n",
              "    }\n",
              "  </style>\n",
              "\n",
              "      <script>\n",
              "        const buttonEl =\n",
              "          document.querySelector('#df-f6ac2735-1649-4bd5-bd2a-a8e362e85c64 button.colab-df-convert');\n",
              "        buttonEl.style.display =\n",
              "          google.colab.kernel.accessAllowed ? 'block' : 'none';\n",
              "\n",
              "        async function convertToInteractive(key) {\n",
              "          const element = document.querySelector('#df-f6ac2735-1649-4bd5-bd2a-a8e362e85c64');\n",
              "          const dataTable =\n",
              "            await google.colab.kernel.invokeFunction('convertToInteractive',\n",
              "                                                     [key], {});\n",
              "          if (!dataTable) return;\n",
              "\n",
              "          const docLinkHtml = 'Like what you see? Visit the ' +\n",
              "            '<a target=\"_blank\" href=https://colab.research.google.com/notebooks/data_table.ipynb>data table notebook</a>'\n",
              "            + ' to learn more about interactive tables.';\n",
              "          element.innerHTML = '';\n",
              "          dataTable['output_type'] = 'display_data';\n",
              "          await google.colab.output.renderOutput(dataTable, element);\n",
              "          const docLink = document.createElement('div');\n",
              "          docLink.innerHTML = docLinkHtml;\n",
              "          element.appendChild(docLink);\n",
              "        }\n",
              "      </script>\n",
              "    </div>\n",
              "  </div>\n",
              "  "
            ],
            "text/plain": [
              "      avgpriceperyear\n",
              "year                 \n",
              "2014       539,280.46\n",
              "2015       542,072.50"
            ]
          },
          "metadata": {},
          "execution_count": 52
        }
      ]
    },
    {
      "cell_type": "markdown",
      "source": [
        "Averge of price sales every year and every month"
      ],
      "metadata": {
        "id": "EkD7180DNweu"
      }
    },
    {
      "cell_type": "code",
      "source": [
        "salesusa.assign(month = salesusa['date'].dt.month,\n",
        "                year = salesusa['date'].dt.year)\\\n",
        ".groupby(['year','month']).agg(avgpricepermonth = ('price','mean'))\\\n",
        ".sort_values(['year','month'],ascending=False)"
      ],
      "metadata": {
        "colab": {
          "base_uri": "https://localhost:8080/",
          "height": 455
        },
        "id": "7uT-36jjftBw",
        "outputId": "57de5746-970c-4ae9-9d80-0d3fcb491519"
      },
      "execution_count": null,
      "outputs": [
        {
          "output_type": "execute_result",
          "data": {
            "text/html": [
              "\n",
              "  <div id=\"df-1244e2f6-22b2-441e-a221-8da47d4c0ffc\">\n",
              "    <div class=\"colab-df-container\">\n",
              "      <div>\n",
              "<style scoped>\n",
              "    .dataframe tbody tr th:only-of-type {\n",
              "        vertical-align: middle;\n",
              "    }\n",
              "\n",
              "    .dataframe tbody tr th {\n",
              "        vertical-align: top;\n",
              "    }\n",
              "\n",
              "    .dataframe thead th {\n",
              "        text-align: right;\n",
              "    }\n",
              "</style>\n",
              "<table border=\"1\" class=\"dataframe\">\n",
              "  <thead>\n",
              "    <tr style=\"text-align: right;\">\n",
              "      <th></th>\n",
              "      <th></th>\n",
              "      <th>avgpricepermonth</th>\n",
              "    </tr>\n",
              "    <tr>\n",
              "      <th>year</th>\n",
              "      <th>month</th>\n",
              "      <th></th>\n",
              "    </tr>\n",
              "  </thead>\n",
              "  <tbody>\n",
              "    <tr>\n",
              "      <th rowspan=\"5\" valign=\"top\">2015</th>\n",
              "      <th>5</th>\n",
              "      <td>558,193.10</td>\n",
              "    </tr>\n",
              "    <tr>\n",
              "      <th>4</th>\n",
              "      <td>561,933.46</td>\n",
              "    </tr>\n",
              "    <tr>\n",
              "      <th>3</th>\n",
              "      <td>544,057.68</td>\n",
              "    </tr>\n",
              "    <tr>\n",
              "      <th>2</th>\n",
              "      <td>507,919.60</td>\n",
              "    </tr>\n",
              "    <tr>\n",
              "      <th>1</th>\n",
              "      <td>525,963.25</td>\n",
              "    </tr>\n",
              "    <tr>\n",
              "      <th>...</th>\n",
              "      <th>...</th>\n",
              "      <td>...</td>\n",
              "    </tr>\n",
              "    <tr>\n",
              "      <th rowspan=\"5\" valign=\"top\">2014</th>\n",
              "      <th>9</th>\n",
              "      <td>529,315.87</td>\n",
              "    </tr>\n",
              "    <tr>\n",
              "      <th>8</th>\n",
              "      <td>536,527.04</td>\n",
              "    </tr>\n",
              "    <tr>\n",
              "      <th>7</th>\n",
              "      <td>544,892.16</td>\n",
              "    </tr>\n",
              "    <tr>\n",
              "      <th>6</th>\n",
              "      <td>558,123.74</td>\n",
              "    </tr>\n",
              "    <tr>\n",
              "      <th>5</th>\n",
              "      <td>548,166.60</td>\n",
              "    </tr>\n",
              "  </tbody>\n",
              "</table>\n",
              "<p>13 rows × 1 columns</p>\n",
              "</div>\n",
              "      <button class=\"colab-df-convert\" onclick=\"convertToInteractive('df-1244e2f6-22b2-441e-a221-8da47d4c0ffc')\"\n",
              "              title=\"Convert this dataframe to an interactive table.\"\n",
              "              style=\"display:none;\">\n",
              "        \n",
              "  <svg xmlns=\"http://www.w3.org/2000/svg\" height=\"24px\"viewBox=\"0 0 24 24\"\n",
              "       width=\"24px\">\n",
              "    <path d=\"M0 0h24v24H0V0z\" fill=\"none\"/>\n",
              "    <path d=\"M18.56 5.44l.94 2.06.94-2.06 2.06-.94-2.06-.94-.94-2.06-.94 2.06-2.06.94zm-11 1L8.5 8.5l.94-2.06 2.06-.94-2.06-.94L8.5 2.5l-.94 2.06-2.06.94zm10 10l.94 2.06.94-2.06 2.06-.94-2.06-.94-.94-2.06-.94 2.06-2.06.94z\"/><path d=\"M17.41 7.96l-1.37-1.37c-.4-.4-.92-.59-1.43-.59-.52 0-1.04.2-1.43.59L10.3 9.45l-7.72 7.72c-.78.78-.78 2.05 0 2.83L4 21.41c.39.39.9.59 1.41.59.51 0 1.02-.2 1.41-.59l7.78-7.78 2.81-2.81c.8-.78.8-2.07 0-2.86zM5.41 20L4 18.59l7.72-7.72 1.47 1.35L5.41 20z\"/>\n",
              "  </svg>\n",
              "      </button>\n",
              "      \n",
              "  <style>\n",
              "    .colab-df-container {\n",
              "      display:flex;\n",
              "      flex-wrap:wrap;\n",
              "      gap: 12px;\n",
              "    }\n",
              "\n",
              "    .colab-df-convert {\n",
              "      background-color: #E8F0FE;\n",
              "      border: none;\n",
              "      border-radius: 50%;\n",
              "      cursor: pointer;\n",
              "      display: none;\n",
              "      fill: #1967D2;\n",
              "      height: 32px;\n",
              "      padding: 0 0 0 0;\n",
              "      width: 32px;\n",
              "    }\n",
              "\n",
              "    .colab-df-convert:hover {\n",
              "      background-color: #E2EBFA;\n",
              "      box-shadow: 0px 1px 2px rgba(60, 64, 67, 0.3), 0px 1px 3px 1px rgba(60, 64, 67, 0.15);\n",
              "      fill: #174EA6;\n",
              "    }\n",
              "\n",
              "    [theme=dark] .colab-df-convert {\n",
              "      background-color: #3B4455;\n",
              "      fill: #D2E3FC;\n",
              "    }\n",
              "\n",
              "    [theme=dark] .colab-df-convert:hover {\n",
              "      background-color: #434B5C;\n",
              "      box-shadow: 0px 1px 3px 1px rgba(0, 0, 0, 0.15);\n",
              "      filter: drop-shadow(0px 1px 2px rgba(0, 0, 0, 0.3));\n",
              "      fill: #FFFFFF;\n",
              "    }\n",
              "  </style>\n",
              "\n",
              "      <script>\n",
              "        const buttonEl =\n",
              "          document.querySelector('#df-1244e2f6-22b2-441e-a221-8da47d4c0ffc button.colab-df-convert');\n",
              "        buttonEl.style.display =\n",
              "          google.colab.kernel.accessAllowed ? 'block' : 'none';\n",
              "\n",
              "        async function convertToInteractive(key) {\n",
              "          const element = document.querySelector('#df-1244e2f6-22b2-441e-a221-8da47d4c0ffc');\n",
              "          const dataTable =\n",
              "            await google.colab.kernel.invokeFunction('convertToInteractive',\n",
              "                                                     [key], {});\n",
              "          if (!dataTable) return;\n",
              "\n",
              "          const docLinkHtml = 'Like what you see? Visit the ' +\n",
              "            '<a target=\"_blank\" href=https://colab.research.google.com/notebooks/data_table.ipynb>data table notebook</a>'\n",
              "            + ' to learn more about interactive tables.';\n",
              "          element.innerHTML = '';\n",
              "          dataTable['output_type'] = 'display_data';\n",
              "          await google.colab.output.renderOutput(dataTable, element);\n",
              "          const docLink = document.createElement('div');\n",
              "          docLink.innerHTML = docLinkHtml;\n",
              "          element.appendChild(docLink);\n",
              "        }\n",
              "      </script>\n",
              "    </div>\n",
              "  </div>\n",
              "  "
            ],
            "text/plain": [
              "            avgpricepermonth\n",
              "year month                  \n",
              "2015 5            558,193.10\n",
              "     4            561,933.46\n",
              "     3            544,057.68\n",
              "     2            507,919.60\n",
              "     1            525,963.25\n",
              "...                      ...\n",
              "2014 9            529,315.87\n",
              "     8            536,527.04\n",
              "     7            544,892.16\n",
              "     6            558,123.74\n",
              "     5            548,166.60\n",
              "\n",
              "[13 rows x 1 columns]"
            ]
          },
          "metadata": {},
          "execution_count": 53
        }
      ]
    },
    {
      "cell_type": "code",
      "source": [
        "df=salesusa.assign(month = salesusa['date'].dt.month,\n",
        "                year = salesusa['date'].dt.year)\\\n",
        ".groupby(['year','month']).agg(avgpricepermonth = ('price','mean'))\\\n",
        ".sort_values(['year','month'],ascending=False).index()\n",
        "\n",
        "plt.figure(figsize=(16, 6))\n",
        "sns.lineplot(data=df, x='month', y='avgpricepermonth', hue='year');"
      ],
      "metadata": {
        "colab": {
          "base_uri": "https://localhost:8080/",
          "height": 388
        },
        "id": "j0s6xl75wd_8",
        "outputId": "262ae7f4-0cf9-47df-c271-2f120b2a6633"
      },
      "execution_count": null,
      "outputs": [
        {
          "output_type": "display_data",
          "data": {
            "image/png": "[encoded data removed]",
            "text/plain": [
              "<Figure size 1152x432 with 1 Axes>"
            ]
          },
          "metadata": {
            "needs_background": "light"
          }
        }
      ]
    },
    {
      "cell_type": "markdown",
      "source": [
        "Add a column of house age at the time of sale"
      ],
      "metadata": {
        "id": "dR91C5K6N42b"
      }
    },
    {
      "cell_type": "code",
      "source": [
        "salesusa['age'] = salesusa['date'].dt.year - salesusa['yr_built']\n",
        "\n",
        "fil=salesusa['age']==-1\n",
        "salesusa[fil].head(2)"
      ],
      "metadata": {
        "colab": {
          "base_uri": "https://localhost:8080/",
          "height": 210
        },
        "id": "YdvDwuJs3tl7",
        "outputId": "f722f492-dbfe-48f5-a4f1-c6bcf9ebcfc9"
      },
      "execution_count": null,
      "outputs": [
        {
          "output_type": "execute_result",
          "data": {
            "text/html": [
              "\n",
              "  <div id=\"df-cd101052-218e-41f4-936a-4aff2a45c80e\">\n",
              "    <div class=\"colab-df-container\">\n",
              "      <div>\n",
              "<style scoped>\n",
              "    .dataframe tbody tr th:only-of-type {\n",
              "        vertical-align: middle;\n",
              "    }\n",
              "\n",
              "    .dataframe tbody tr th {\n",
              "        vertical-align: top;\n",
              "    }\n",
              "\n",
              "    .dataframe thead th {\n",
              "        text-align: right;\n",
              "    }\n",
              "</style>\n",
              "<table border=\"1\" class=\"dataframe\">\n",
              "  <thead>\n",
              "    <tr style=\"text-align: right;\">\n",
              "      <th></th>\n",
              "      <th>id</th>\n",
              "      <th>date</th>\n",
              "      <th>price</th>\n",
              "      <th>bedrooms</th>\n",
              "      <th>sqft_living</th>\n",
              "      <th>sqft_lot</th>\n",
              "      <th>floors</th>\n",
              "      <th>waterfront</th>\n",
              "      <th>view</th>\n",
              "      <th>condition</th>\n",
              "      <th>grade</th>\n",
              "      <th>sqft_above</th>\n",
              "      <th>sqft_basement</th>\n",
              "      <th>yr_built</th>\n",
              "      <th>yr_renovated</th>\n",
              "      <th>zipcode</th>\n",
              "      <th>lat</th>\n",
              "      <th>long</th>\n",
              "      <th>age</th>\n",
              "    </tr>\n",
              "  </thead>\n",
              "  <tbody>\n",
              "    <tr>\n",
              "      <th>1763</th>\n",
              "      <td>1832100030</td>\n",
              "      <td>2014-06-25</td>\n",
              "      <td>597,326.00</td>\n",
              "      <td>4</td>\n",
              "      <td>3570</td>\n",
              "      <td>8250</td>\n",
              "      <td>2.00</td>\n",
              "      <td>0</td>\n",
              "      <td>0</td>\n",
              "      <td>3</td>\n",
              "      <td>10</td>\n",
              "      <td>2860</td>\n",
              "      <td>710</td>\n",
              "      <td>2015</td>\n",
              "      <td>0</td>\n",
              "      <td>98040</td>\n",
              "      <td>47.58</td>\n",
              "      <td>-122.23</td>\n",
              "      <td>-1</td>\n",
              "    </tr>\n",
              "    <tr>\n",
              "      <th>2687</th>\n",
              "      <td>3076500830</td>\n",
              "      <td>2014-10-29</td>\n",
              "      <td>385,195.00</td>\n",
              "      <td>1</td>\n",
              "      <td>710</td>\n",
              "      <td>6000</td>\n",
              "      <td>1.50</td>\n",
              "      <td>0</td>\n",
              "      <td>0</td>\n",
              "      <td>3</td>\n",
              "      <td>6</td>\n",
              "      <td>710</td>\n",
              "      <td>0</td>\n",
              "      <td>2015</td>\n",
              "      <td>0</td>\n",
              "      <td>98144</td>\n",
              "      <td>47.58</td>\n",
              "      <td>-122.32</td>\n",
              "      <td>-1</td>\n",
              "    </tr>\n",
              "  </tbody>\n",
              "</table>\n",
              "</div>\n",
              "      <button class=\"colab-df-convert\" onclick=\"convertToInteractive('df-cd101052-218e-41f4-936a-4aff2a45c80e')\"\n",
              "              title=\"Convert this dataframe to an interactive table.\"\n",
              "              style=\"display:none;\">\n",
              "        \n",
              "  <svg xmlns=\"http://www.w3.org/2000/svg\" height=\"24px\"viewBox=\"0 0 24 24\"\n",
              "       width=\"24px\">\n",
              "    <path d=\"M0 0h24v24H0V0z\" fill=\"none\"/>\n",
              "    <path d=\"M18.56 5.44l.94 2.06.94-2.06 2.06-.94-2.06-.94-.94-2.06-.94 2.06-2.06.94zm-11 1L8.5 8.5l.94-2.06 2.06-.94-2.06-.94L8.5 2.5l-.94 2.06-2.06.94zm10 10l.94 2.06.94-2.06 2.06-.94-2.06-.94-.94-2.06-.94 2.06-2.06.94z\"/><path d=\"M17.41 7.96l-1.37-1.37c-.4-.4-.92-.59-1.43-.59-.52 0-1.04.2-1.43.59L10.3 9.45l-7.72 7.72c-.78.78-.78 2.05 0 2.83L4 21.41c.39.39.9.59 1.41.59.51 0 1.02-.2 1.41-.59l7.78-7.78 2.81-2.81c.8-.78.8-2.07 0-2.86zM5.41 20L4 18.59l7.72-7.72 1.47 1.35L5.41 20z\"/>\n",
              "  </svg>\n",
              "      </button>\n",
              "      \n",
              "  <style>\n",
              "    .colab-df-container {\n",
              "      display:flex;\n",
              "      flex-wrap:wrap;\n",
              "      gap: 12px;\n",
              "    }\n",
              "\n",
              "    .colab-df-convert {\n",
              "      background-color: #E8F0FE;\n",
              "      border: none;\n",
              "      border-radius: 50%;\n",
              "      cursor: pointer;\n",
              "      display: none;\n",
              "      fill: #1967D2;\n",
              "      height: 32px;\n",
              "      padding: 0 0 0 0;\n",
              "      width: 32px;\n",
              "    }\n",
              "\n",
              "    .colab-df-convert:hover {\n",
              "      background-color: #E2EBFA;\n",
              "      box-shadow: 0px 1px 2px rgba(60, 64, 67, 0.3), 0px 1px 3px 1px rgba(60, 64, 67, 0.15);\n",
              "      fill: #174EA6;\n",
              "    }\n",
              "\n",
              "    [theme=dark] .colab-df-convert {\n",
              "      background-color: #3B4455;\n",
              "      fill: #D2E3FC;\n",
              "    }\n",
              "\n",
              "    [theme=dark] .colab-df-convert:hover {\n",
              "      background-color: #434B5C;\n",
              "      box-shadow: 0px 1px 3px 1px rgba(0, 0, 0, 0.15);\n",
              "      filter: drop-shadow(0px 1px 2px rgba(0, 0, 0, 0.3));\n",
              "      fill: #FFFFFF;\n",
              "    }\n",
              "  </style>\n",
              "\n",
              "      <script>\n",
              "        const buttonEl =\n",
              "          document.querySelector('#df-cd101052-218e-41f4-936a-4aff2a45c80e button.colab-df-convert');\n",
              "        buttonEl.style.display =\n",
              "          google.colab.kernel.accessAllowed ? 'block' : 'none';\n",
              "\n",
              "        async function convertToInteractive(key) {\n",
              "          const element = document.querySelector('#df-cd101052-218e-41f4-936a-4aff2a45c80e');\n",
              "          const dataTable =\n",
              "            await google.colab.kernel.invokeFunction('convertToInteractive',\n",
              "                                                     [key], {});\n",
              "          if (!dataTable) return;\n",
              "\n",
              "          const docLinkHtml = 'Like what you see? Visit the ' +\n",
              "            '<a target=\"_blank\" href=https://colab.research.google.com/notebooks/data_table.ipynb>data table notebook</a>'\n",
              "            + ' to learn more about interactive tables.';\n",
              "          element.innerHTML = '';\n",
              "          dataTable['output_type'] = 'display_data';\n",
              "          await google.colab.output.renderOutput(dataTable, element);\n",
              "          const docLink = document.createElement('div');\n",
              "          docLink.innerHTML = docLinkHtml;\n",
              "          element.appendChild(docLink);\n",
              "        }\n",
              "      </script>\n",
              "    </div>\n",
              "  </div>\n",
              "  "
            ],
            "text/plain": [
              "              id       date      price  bedrooms  sqft_living  sqft_lot  \\\n",
              "1763  1832100030 2014-06-25 597,326.00         4         3570      8250   \n",
              "2687  3076500830 2014-10-29 385,195.00         1          710      6000   \n",
              "\n",
              "      floors  waterfront  view  condition  grade  sqft_above  sqft_basement  \\\n",
              "1763    2.00           0     0          3     10        2860            710   \n",
              "2687    1.50           0     0          3      6         710              0   \n",
              "\n",
              "      yr_built  yr_renovated  zipcode   lat    long  age  \n",
              "1763      2015             0    98040 47.58 -122.23   -1  \n",
              "2687      2015             0    98144 47.58 -122.32   -1  "
            ]
          },
          "metadata": {},
          "execution_count": 55
        }
      ]
    },
    {
      "cell_type": "code",
      "source": [
        "def rank1(columns):\n",
        "  if 1 <= columns <= 5:\n",
        "      return '1-5'\n",
        "  elif 6 <= columns <= 10:\n",
        "      return '6-10'    \n",
        "  elif 11 <= columns <= 25:\n",
        "      return '11-25'\n",
        "  elif 26 <= columns <= 50:\n",
        "      return '26-50'\n",
        "  elif 51 <= columns <= 75:\n",
        "      return '51-75'\n",
        "  elif 76 <= columns <= 100:\n",
        "      return '76-100'        \n",
        "  elif  columns > 100:\n",
        "      return '100+'\n",
        "  else:\n",
        "      return('<1')"
      ],
      "metadata": {
        "id": "4CKcF4cC4vJz"
      },
      "execution_count": null,
      "outputs": []
    },
    {
      "cell_type": "code",
      "source": [
        "salesusa['range'] = salesusa['age'].apply(rank1)"
      ],
      "metadata": {
        "id": "T28C4xMk6ZPu"
      },
      "execution_count": null,
      "outputs": []
    },
    {
      "cell_type": "code",
      "source": [
        "plt.figure(figsize=(18, 8))\n",
        "salesusa.groupby('range').agg(numofsales = ('id','size'))\\\n",
        ".sort_values('numofsales',ascending=False)\\\n",
        ".plot(kind='bar');"
      ],
      "metadata": {
        "colab": {
          "base_uri": "https://localhost:8080/",
          "height": 322
        },
        "id": "ZKintMfs7xcS",
        "outputId": "5ec9bf1d-ad4f-41e7-de57-adebe4d7739c"
      },
      "execution_count": null,
      "outputs": [
        {
          "output_type": "display_data",
          "data": {
            "text/plain": [
              "<Figure size 1296x576 with 0 Axes>"
            ]
          },
          "metadata": {}
        },
        {
          "output_type": "display_data",
          "data": {
            "image/png": "[encoded data removed]",
            "text/plain": [
              "<Figure size 432x288 with 1 Axes>"
            ]
          },
          "metadata": {
            "needs_background": "light"
          }
        }
      ]
    },
    {
      "cell_type": "code",
      "source": [
        "plt.figure(figsize=(18, 8))\n",
        "salesusa.groupby('range').agg(avgofprice = ('price','mean'))\\\n",
        ".sort_values('avgofprice',ascending=False)\\\n",
        ".plot(kind='bar');"
      ],
      "metadata": {
        "colab": {
          "base_uri": "https://localhost:8080/",
          "height": 322
        },
        "id": "s-viQdi-7z2H",
        "outputId": "4ceac288-cae2-487d-ecce-a9dc7c25af83"
      },
      "execution_count": null,
      "outputs": [
        {
          "output_type": "display_data",
          "data": {
            "text/plain": [
              "<Figure size 1296x576 with 0 Axes>"
            ]
          },
          "metadata": {}
        },
        {
          "output_type": "display_data",
          "data": {
            "image/png": "[encoded data removed]",
            "text/plain": [
              "<Figure size 432x288 with 1 Axes>"
            ]
          },
          "metadata": {
            "needs_background": "light"
          }
        }
      ]
    }
  ]
}